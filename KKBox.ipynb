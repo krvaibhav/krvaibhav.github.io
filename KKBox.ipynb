{
 "cells": [
  {
   "cell_type": "code",
   "execution_count": 1,
   "metadata": {
    "collapsed": true
   },
   "outputs": [],
   "source": [
    "import pandas as pd\n",
    "import numpy as np\n",
    "import matplotlib.pyplot as plt\n",
    "import os\n",
    "import itertools\n",
    "import datetime as dt\n",
    "from sklearn.linear_model import LogisticRegression\n",
    "from sklearn.cross_validation import cross_val_score\n",
    "from sklearn.ensemble import RandomForestClassifier\n",
    "from sklearn.cross_validation import train_test_split\n",
    "from sklearn.tree import DecisionTreeClassifier\n",
    "from sklearn.preprocessing import binarize\n",
    "%matplotlib inline"
   ]
  },
  {
   "cell_type": "code",
   "execution_count": 2,
   "metadata": {
    "collapsed": true
   },
   "outputs": [],
   "source": [
    "from sklearn.metrics import accuracy_score, confusion_matrix, roc_auc_score, roc_curve"
   ]
  },
  {
   "cell_type": "code",
   "execution_count": 3,
   "metadata": {
    "collapsed": false
   },
   "outputs": [
    {
     "data": {
      "text/html": [
       "<div>\n",
       "<table border=\"1\" class=\"dataframe\">\n",
       "  <thead>\n",
       "    <tr style=\"text-align: right;\">\n",
       "      <th></th>\n",
       "      <th>msno</th>\n",
       "      <th>date</th>\n",
       "      <th>num_25</th>\n",
       "      <th>num_50</th>\n",
       "      <th>num_75</th>\n",
       "      <th>num_985</th>\n",
       "      <th>num_100</th>\n",
       "      <th>num_unq</th>\n",
       "      <th>total_secs</th>\n",
       "    </tr>\n",
       "  </thead>\n",
       "  <tbody>\n",
       "    <tr>\n",
       "      <th>0</th>\n",
       "      <td>u9E91QDTvHLq6NXjEaWv8u4QIqhrHk72kE+w31Gnhdg=</td>\n",
       "      <td>20170331</td>\n",
       "      <td>8</td>\n",
       "      <td>4</td>\n",
       "      <td>0</td>\n",
       "      <td>1</td>\n",
       "      <td>21</td>\n",
       "      <td>18</td>\n",
       "      <td>6309.273</td>\n",
       "    </tr>\n",
       "    <tr>\n",
       "      <th>1</th>\n",
       "      <td>nTeWW/eOZA/UHKdD5L7DEqKKFTjaAj3ALLPoAWsU8n0=</td>\n",
       "      <td>20170330</td>\n",
       "      <td>2</td>\n",
       "      <td>2</td>\n",
       "      <td>1</td>\n",
       "      <td>0</td>\n",
       "      <td>9</td>\n",
       "      <td>11</td>\n",
       "      <td>2390.699</td>\n",
       "    </tr>\n",
       "    <tr>\n",
       "      <th>2</th>\n",
       "      <td>2UqkWXwZbIjs03dHLU9KHJNNEvEkZVzm69f3jCS+uLI=</td>\n",
       "      <td>20170331</td>\n",
       "      <td>52</td>\n",
       "      <td>3</td>\n",
       "      <td>5</td>\n",
       "      <td>3</td>\n",
       "      <td>84</td>\n",
       "      <td>110</td>\n",
       "      <td>23203.337</td>\n",
       "    </tr>\n",
       "    <tr>\n",
       "      <th>3</th>\n",
       "      <td>ycwLc+m2O0a85jSLALtr941AaZt9ai8Qwlg9n0Nql5U=</td>\n",
       "      <td>20170331</td>\n",
       "      <td>176</td>\n",
       "      <td>4</td>\n",
       "      <td>2</td>\n",
       "      <td>2</td>\n",
       "      <td>19</td>\n",
       "      <td>191</td>\n",
       "      <td>7100.454</td>\n",
       "    </tr>\n",
       "    <tr>\n",
       "      <th>4</th>\n",
       "      <td>EGcbTofOSOkMmQyN1NMLxHEXJ1yV3t/JdhGwQ9wXjnI=</td>\n",
       "      <td>20170331</td>\n",
       "      <td>2</td>\n",
       "      <td>1</td>\n",
       "      <td>0</td>\n",
       "      <td>1</td>\n",
       "      <td>112</td>\n",
       "      <td>93</td>\n",
       "      <td>28401.558</td>\n",
       "    </tr>\n",
       "  </tbody>\n",
       "</table>\n",
       "</div>"
      ],
      "text/plain": [
       "                                           msno      date  num_25  num_50  \\\n",
       "0  u9E91QDTvHLq6NXjEaWv8u4QIqhrHk72kE+w31Gnhdg=  20170331       8       4   \n",
       "1  nTeWW/eOZA/UHKdD5L7DEqKKFTjaAj3ALLPoAWsU8n0=  20170330       2       2   \n",
       "2  2UqkWXwZbIjs03dHLU9KHJNNEvEkZVzm69f3jCS+uLI=  20170331      52       3   \n",
       "3  ycwLc+m2O0a85jSLALtr941AaZt9ai8Qwlg9n0Nql5U=  20170331     176       4   \n",
       "4  EGcbTofOSOkMmQyN1NMLxHEXJ1yV3t/JdhGwQ9wXjnI=  20170331       2       1   \n",
       "\n",
       "   num_75  num_985  num_100  num_unq  total_secs  \n",
       "0       0        1       21       18    6309.273  \n",
       "1       1        0        9       11    2390.699  \n",
       "2       5        3       84      110   23203.337  \n",
       "3       2        2       19      191    7100.454  \n",
       "4       0        1      112       93   28401.558  "
      ]
     },
     "execution_count": 3,
     "metadata": {},
     "output_type": "execute_result"
    }
   ],
   "source": [
    "### Reading User Log\n",
    "user_log = pd.read_csv('user_logs_v2.csv')\n",
    "user_log.head()"
   ]
  },
  {
   "cell_type": "code",
   "execution_count": 4,
   "metadata": {
    "collapsed": false
   },
   "outputs": [
    {
     "data": {
      "text/html": [
       "<div>\n",
       "<table border=\"1\" class=\"dataframe\">\n",
       "  <thead>\n",
       "    <tr style=\"text-align: right;\">\n",
       "      <th></th>\n",
       "      <th>msno</th>\n",
       "      <th>payment_method_id</th>\n",
       "      <th>payment_plan_days</th>\n",
       "      <th>plan_list_price</th>\n",
       "      <th>actual_amount_paid</th>\n",
       "      <th>is_auto_renew</th>\n",
       "      <th>transaction_date</th>\n",
       "      <th>membership_expire_date</th>\n",
       "      <th>is_cancel</th>\n",
       "    </tr>\n",
       "  </thead>\n",
       "  <tbody>\n",
       "    <tr>\n",
       "      <th>0</th>\n",
       "      <td>++6eU4LsQ3UQ20ILS7d99XK8WbiVgbyYL4FUgzZR134=</td>\n",
       "      <td>32</td>\n",
       "      <td>90</td>\n",
       "      <td>298</td>\n",
       "      <td>298</td>\n",
       "      <td>0</td>\n",
       "      <td>20170131</td>\n",
       "      <td>20170504</td>\n",
       "      <td>0</td>\n",
       "    </tr>\n",
       "    <tr>\n",
       "      <th>1</th>\n",
       "      <td>++lvGPJOinuin/8esghpnqdljm6NXS8m8Zwchc7gOeA=</td>\n",
       "      <td>41</td>\n",
       "      <td>30</td>\n",
       "      <td>149</td>\n",
       "      <td>149</td>\n",
       "      <td>1</td>\n",
       "      <td>20150809</td>\n",
       "      <td>20190412</td>\n",
       "      <td>0</td>\n",
       "    </tr>\n",
       "    <tr>\n",
       "      <th>2</th>\n",
       "      <td>+/GXNtXWQVfKrEDqYAzcSw2xSPYMKWNj22m+5XkVQZc=</td>\n",
       "      <td>36</td>\n",
       "      <td>30</td>\n",
       "      <td>180</td>\n",
       "      <td>180</td>\n",
       "      <td>1</td>\n",
       "      <td>20170303</td>\n",
       "      <td>20170422</td>\n",
       "      <td>0</td>\n",
       "    </tr>\n",
       "  </tbody>\n",
       "</table>\n",
       "</div>"
      ],
      "text/plain": [
       "                                           msno  payment_method_id  \\\n",
       "0  ++6eU4LsQ3UQ20ILS7d99XK8WbiVgbyYL4FUgzZR134=                 32   \n",
       "1  ++lvGPJOinuin/8esghpnqdljm6NXS8m8Zwchc7gOeA=                 41   \n",
       "2  +/GXNtXWQVfKrEDqYAzcSw2xSPYMKWNj22m+5XkVQZc=                 36   \n",
       "\n",
       "   payment_plan_days  plan_list_price  actual_amount_paid  is_auto_renew  \\\n",
       "0                 90              298                 298              0   \n",
       "1                 30              149                 149              1   \n",
       "2                 30              180                 180              1   \n",
       "\n",
       "   transaction_date  membership_expire_date  is_cancel  \n",
       "0          20170131                20170504          0  \n",
       "1          20150809                20190412          0  \n",
       "2          20170303                20170422          0  "
      ]
     },
     "execution_count": 4,
     "metadata": {},
     "output_type": "execute_result"
    }
   ],
   "source": [
    "### Reading Transaction Data\n",
    "transaction = pd.read_csv('transactions_v2.csv')\n",
    "transaction.head(3)"
   ]
  },
  {
   "cell_type": "code",
   "execution_count": 5,
   "metadata": {
    "collapsed": false
   },
   "outputs": [
    {
     "data": {
      "text/html": [
       "<div>\n",
       "<table border=\"1\" class=\"dataframe\">\n",
       "  <thead>\n",
       "    <tr style=\"text-align: right;\">\n",
       "      <th></th>\n",
       "      <th>msno</th>\n",
       "      <th>is_churn</th>\n",
       "    </tr>\n",
       "  </thead>\n",
       "  <tbody>\n",
       "    <tr>\n",
       "      <th>0</th>\n",
       "      <td>ugx0CjOMzazClkFzU2xasmDZaoIqOUAZPsH1q0teWCg=</td>\n",
       "      <td>1</td>\n",
       "    </tr>\n",
       "    <tr>\n",
       "      <th>1</th>\n",
       "      <td>f/NmvEzHfhINFEYZTR05prUdr+E+3+oewvweYz9cCQE=</td>\n",
       "      <td>1</td>\n",
       "    </tr>\n",
       "    <tr>\n",
       "      <th>2</th>\n",
       "      <td>zLo9f73nGGT1p21ltZC3ChiRnAVvgibMyazbCxvWPcg=</td>\n",
       "      <td>1</td>\n",
       "    </tr>\n",
       "    <tr>\n",
       "      <th>3</th>\n",
       "      <td>8iF/+8HY8lJKFrTc7iR9ZYGCG2Ecrogbc2Vy5YhsfhQ=</td>\n",
       "      <td>1</td>\n",
       "    </tr>\n",
       "    <tr>\n",
       "      <th>4</th>\n",
       "      <td>K6fja4+jmoZ5xG6BypqX80Uw/XKpMgrEMdG2edFOxnA=</td>\n",
       "      <td>1</td>\n",
       "    </tr>\n",
       "  </tbody>\n",
       "</table>\n",
       "</div>"
      ],
      "text/plain": [
       "                                           msno  is_churn\n",
       "0  ugx0CjOMzazClkFzU2xasmDZaoIqOUAZPsH1q0teWCg=         1\n",
       "1  f/NmvEzHfhINFEYZTR05prUdr+E+3+oewvweYz9cCQE=         1\n",
       "2  zLo9f73nGGT1p21ltZC3ChiRnAVvgibMyazbCxvWPcg=         1\n",
       "3  8iF/+8HY8lJKFrTc7iR9ZYGCG2Ecrogbc2Vy5YhsfhQ=         1\n",
       "4  K6fja4+jmoZ5xG6BypqX80Uw/XKpMgrEMdG2edFOxnA=         1"
      ]
     },
     "execution_count": 5,
     "metadata": {},
     "output_type": "execute_result"
    }
   ],
   "source": [
    "### Reading Training data\n",
    "train_data = pd.read_csv('train_v2.csv')\n",
    "train_data.head()"
   ]
  },
  {
   "cell_type": "code",
   "execution_count": 51,
   "metadata": {
    "collapsed": false
   },
   "outputs": [
    {
     "data": {
      "text/html": [
       "<div>\n",
       "<table border=\"1\" class=\"dataframe\">\n",
       "  <thead>\n",
       "    <tr style=\"text-align: right;\">\n",
       "      <th></th>\n",
       "      <th>msno</th>\n",
       "      <th>is_churn</th>\n",
       "    </tr>\n",
       "  </thead>\n",
       "  <tbody>\n",
       "    <tr>\n",
       "      <th>0</th>\n",
       "      <td>4n+fXlyJvfQnTeKXTWT507Ll4JVYGrOC8LHCfwBmPE4=</td>\n",
       "      <td>0</td>\n",
       "    </tr>\n",
       "    <tr>\n",
       "      <th>1</th>\n",
       "      <td>aNmbC1GvFUxQyQUidCVmfbQ0YeCuwkPzEdQ0RwWyeZM=</td>\n",
       "      <td>0</td>\n",
       "    </tr>\n",
       "    <tr>\n",
       "      <th>2</th>\n",
       "      <td>rFC9eSG/tMuzpre6cwcMLZHEYM89xY02qcz7HL4//jc=</td>\n",
       "      <td>0</td>\n",
       "    </tr>\n",
       "    <tr>\n",
       "      <th>3</th>\n",
       "      <td>WZ59dLyrQcE7ft06MZ5dj40BnlYQY7PHgg/54+HaCSE=</td>\n",
       "      <td>0</td>\n",
       "    </tr>\n",
       "    <tr>\n",
       "      <th>4</th>\n",
       "      <td>aky/Iv8hMp1/V/yQHLtaVuEmmAxkB5GuasQZePJ7NU4=</td>\n",
       "      <td>0</td>\n",
       "    </tr>\n",
       "  </tbody>\n",
       "</table>\n",
       "</div>"
      ],
      "text/plain": [
       "                                           msno  is_churn\n",
       "0  4n+fXlyJvfQnTeKXTWT507Ll4JVYGrOC8LHCfwBmPE4=         0\n",
       "1  aNmbC1GvFUxQyQUidCVmfbQ0YeCuwkPzEdQ0RwWyeZM=         0\n",
       "2  rFC9eSG/tMuzpre6cwcMLZHEYM89xY02qcz7HL4//jc=         0\n",
       "3  WZ59dLyrQcE7ft06MZ5dj40BnlYQY7PHgg/54+HaCSE=         0\n",
       "4  aky/Iv8hMp1/V/yQHLtaVuEmmAxkB5GuasQZePJ7NU4=         0"
      ]
     },
     "execution_count": 51,
     "metadata": {},
     "output_type": "execute_result"
    }
   ],
   "source": [
    "### Reading sample submission data\n",
    "Sample_Submission_v2 = pd.read_csv('sample_submission_v2.csv')\n",
    "Sample_Submission_v2.head()"
   ]
  },
  {
   "cell_type": "code",
   "execution_count": 7,
   "metadata": {
    "collapsed": false
   },
   "outputs": [],
   "source": [
    "### Grouping on MSNO\n",
    "t = transaction.groupby('msno').agg({'payment_method_id' : 'count',\n",
    "                       'payment_plan_days' : 'sum',\n",
    "                       'actual_amount_paid' : 'sum',\n",
    "                       'is_auto_renew' : 'max',\n",
    "                       'is_cancel' : 'max'\n",
    "                      })\n",
    "t['msno'] = t.index"
   ]
  },
  {
   "cell_type": "code",
   "execution_count": 8,
   "metadata": {
    "collapsed": false
   },
   "outputs": [],
   "source": [
    "transaction1 = transaction.copy()"
   ]
  },
  {
   "cell_type": "code",
   "execution_count": 9,
   "metadata": {
    "collapsed": false
   },
   "outputs": [
    {
     "data": {
      "text/html": [
       "<div>\n",
       "<table border=\"1\" class=\"dataframe\">\n",
       "  <thead>\n",
       "    <tr style=\"text-align: right;\">\n",
       "      <th></th>\n",
       "      <th>msno</th>\n",
       "      <th>payment_method_id</th>\n",
       "      <th>payment_plan_days</th>\n",
       "      <th>plan_list_price</th>\n",
       "      <th>actual_amount_paid</th>\n",
       "      <th>is_auto_renew</th>\n",
       "      <th>transaction_date</th>\n",
       "      <th>membership_expire_date</th>\n",
       "      <th>is_cancel</th>\n",
       "      <th>trans_dt</th>\n",
       "      <th>expiry_dt</th>\n",
       "    </tr>\n",
       "  </thead>\n",
       "  <tbody>\n",
       "    <tr>\n",
       "      <th>0</th>\n",
       "      <td>++6eU4LsQ3UQ20ILS7d99XK8WbiVgbyYL4FUgzZR134=</td>\n",
       "      <td>32</td>\n",
       "      <td>90</td>\n",
       "      <td>298</td>\n",
       "      <td>298</td>\n",
       "      <td>0</td>\n",
       "      <td>20170131</td>\n",
       "      <td>20170504</td>\n",
       "      <td>0</td>\n",
       "      <td>2017-01-31</td>\n",
       "      <td>2017-05-04</td>\n",
       "    </tr>\n",
       "    <tr>\n",
       "      <th>1</th>\n",
       "      <td>++lvGPJOinuin/8esghpnqdljm6NXS8m8Zwchc7gOeA=</td>\n",
       "      <td>41</td>\n",
       "      <td>30</td>\n",
       "      <td>149</td>\n",
       "      <td>149</td>\n",
       "      <td>1</td>\n",
       "      <td>20150809</td>\n",
       "      <td>20190412</td>\n",
       "      <td>0</td>\n",
       "      <td>2015-08-09</td>\n",
       "      <td>2019-04-12</td>\n",
       "    </tr>\n",
       "    <tr>\n",
       "      <th>2</th>\n",
       "      <td>+/GXNtXWQVfKrEDqYAzcSw2xSPYMKWNj22m+5XkVQZc=</td>\n",
       "      <td>36</td>\n",
       "      <td>30</td>\n",
       "      <td>180</td>\n",
       "      <td>180</td>\n",
       "      <td>1</td>\n",
       "      <td>20170303</td>\n",
       "      <td>20170422</td>\n",
       "      <td>0</td>\n",
       "      <td>2017-03-03</td>\n",
       "      <td>2017-04-22</td>\n",
       "    </tr>\n",
       "  </tbody>\n",
       "</table>\n",
       "</div>"
      ],
      "text/plain": [
       "                                           msno  payment_method_id  \\\n",
       "0  ++6eU4LsQ3UQ20ILS7d99XK8WbiVgbyYL4FUgzZR134=                 32   \n",
       "1  ++lvGPJOinuin/8esghpnqdljm6NXS8m8Zwchc7gOeA=                 41   \n",
       "2  +/GXNtXWQVfKrEDqYAzcSw2xSPYMKWNj22m+5XkVQZc=                 36   \n",
       "\n",
       "   payment_plan_days  plan_list_price  actual_amount_paid  is_auto_renew  \\\n",
       "0                 90              298                 298              0   \n",
       "1                 30              149                 149              1   \n",
       "2                 30              180                 180              1   \n",
       "\n",
       "  transaction_date membership_expire_date  is_cancel   trans_dt  expiry_dt  \n",
       "0         20170131               20170504          0 2017-01-31 2017-05-04  \n",
       "1         20150809               20190412          0 2015-08-09 2019-04-12  \n",
       "2         20170303               20170422          0 2017-03-03 2017-04-22  "
      ]
     },
     "execution_count": 9,
     "metadata": {},
     "output_type": "execute_result"
    }
   ],
   "source": [
    "### Creating trans_dt and expiry_dt field\n",
    "transaction1['transaction_date'] = transaction1.transaction_date.astype(str)\n",
    "transaction1['membership_expire_date'] = transaction1.membership_expire_date.astype(str)\n",
    "\n",
    "transaction1['trans_dt'] = transaction1.transaction_date.str[0:4] + \"-\" + transaction1.transaction_date.str[4:6] + \"-\" + transaction1.transaction_date.str[6:8]\n",
    "transaction1['expiry_dt'] = transaction1.membership_expire_date.str[0:4] + \"-\" + transaction1.membership_expire_date.str[4:6] + \"-\" + transaction1.membership_expire_date.str[6:8]\n",
    "\n",
    "transaction1.trans_dt = pd.to_datetime(transaction1.trans_dt, format= '%Y-%m-%d')\n",
    "transaction1.expiry_dt = pd.to_datetime(transaction1.expiry_dt, format= '%Y-%m-%d')\n",
    "\n",
    "transaction1.head(3)"
   ]
  },
  {
   "cell_type": "code",
   "execution_count": 10,
   "metadata": {
    "collapsed": false
   },
   "outputs": [
    {
     "data": {
      "text/html": [
       "<div>\n",
       "<table border=\"1\" class=\"dataframe\">\n",
       "  <thead>\n",
       "    <tr style=\"text-align: right;\">\n",
       "      <th></th>\n",
       "      <th>trans_dt</th>\n",
       "      <th>is_cancel</th>\n",
       "      <th>msno</th>\n",
       "    </tr>\n",
       "    <tr>\n",
       "      <th>msno</th>\n",
       "      <th></th>\n",
       "      <th></th>\n",
       "      <th></th>\n",
       "    </tr>\n",
       "  </thead>\n",
       "  <tbody>\n",
       "    <tr>\n",
       "      <th>+++IZseRRiQS9aaSkH6cMYU6bGDcxUieAi/tH67sC5s=</th>\n",
       "      <td>2016-10-23</td>\n",
       "      <td>0</td>\n",
       "      <td>+++IZseRRiQS9aaSkH6cMYU6bGDcxUieAi/tH67sC5s=</td>\n",
       "    </tr>\n",
       "    <tr>\n",
       "      <th>+++hVY1rZox/33YtvDgmKA2Frg/2qhkz12B9ylCvh8o=</th>\n",
       "      <td>2017-03-15</td>\n",
       "      <td>0</td>\n",
       "      <td>+++hVY1rZox/33YtvDgmKA2Frg/2qhkz12B9ylCvh8o=</td>\n",
       "    </tr>\n",
       "    <tr>\n",
       "      <th>+++l/EXNMLTijfLBa8p2TUVVVp2aFGSuUI/h7mLmthw=</th>\n",
       "      <td>2017-03-31</td>\n",
       "      <td>0</td>\n",
       "      <td>+++l/EXNMLTijfLBa8p2TUVVVp2aFGSuUI/h7mLmthw=</td>\n",
       "    </tr>\n",
       "  </tbody>\n",
       "</table>\n",
       "</div>"
      ],
      "text/plain": [
       "                                               trans_dt  is_cancel  \\\n",
       "msno                                                                 \n",
       "+++IZseRRiQS9aaSkH6cMYU6bGDcxUieAi/tH67sC5s= 2016-10-23          0   \n",
       "+++hVY1rZox/33YtvDgmKA2Frg/2qhkz12B9ylCvh8o= 2017-03-15          0   \n",
       "+++l/EXNMLTijfLBa8p2TUVVVp2aFGSuUI/h7mLmthw= 2017-03-31          0   \n",
       "\n",
       "                                                                                      msno  \n",
       "msno                                                                                        \n",
       "+++IZseRRiQS9aaSkH6cMYU6bGDcxUieAi/tH67sC5s=  +++IZseRRiQS9aaSkH6cMYU6bGDcxUieAi/tH67sC5s=  \n",
       "+++hVY1rZox/33YtvDgmKA2Frg/2qhkz12B9ylCvh8o=  +++hVY1rZox/33YtvDgmKA2Frg/2qhkz12B9ylCvh8o=  \n",
       "+++l/EXNMLTijfLBa8p2TUVVVp2aFGSuUI/h7mLmthw=  +++l/EXNMLTijfLBa8p2TUVVVp2aFGSuUI/h7mLmthw=  "
      ]
     },
     "execution_count": 10,
     "metadata": {},
     "output_type": "execute_result"
    }
   ],
   "source": [
    "### Finding Last Transdate\n",
    "t1 = transaction1.groupby('msno').agg({'trans_dt': max,\n",
    "                                       'is_cancel': max})\n",
    "t1['msno'] = t1.index\n",
    "t1.head(3)"
   ]
  },
  {
   "cell_type": "code",
   "execution_count": 11,
   "metadata": {
    "collapsed": false
   },
   "outputs": [],
   "source": [
    "### Merging data to get Last transation details\n",
    "t2 = pd.merge(t1, transaction1, how = 'left', on = ('msno','trans_dt', 'is_cancel'))"
   ]
  },
  {
   "cell_type": "code",
   "execution_count": 12,
   "metadata": {
    "collapsed": false
   },
   "outputs": [],
   "source": [
    "transaction1[transaction1.msno == 'QMnMEY866c5zTCWaNQTdBZWp96WCwuVKr11V32d8TDw='].to_csv('output.csv', sep =',')"
   ]
  },
  {
   "cell_type": "code",
   "execution_count": 13,
   "metadata": {
    "collapsed": false
   },
   "outputs": [
    {
     "data": {
      "text/plain": [
       "SNlFRAsmUqnXKPofSXA8WYUc5DtmLcUMy4pXSJ3Ohz0=    131\n",
       "OGKDrZQDB3yewZhoSd5qqvmG5A1GcNTYMexO95NlH+g=    118\n",
       "vf6eQrnFfiS9o1kB/gRUJ4iTUixS9tHNKizqQ/1vLDI=    117\n",
       "Name: msno, dtype: int64"
      ]
     },
     "execution_count": 13,
     "metadata": {},
     "output_type": "execute_result"
    }
   ],
   "source": [
    "### Dropping columns 'transaction_date', 'membership_expire_date' and removing duplicate columns\n",
    "t3 = t2.drop(['transaction_date', 'membership_expire_date'], axis = 1).drop_duplicates(keep = 'first')\n",
    "t3.msno.value_counts().head(3)"
   ]
  },
  {
   "cell_type": "code",
   "execution_count": 14,
   "metadata": {
    "collapsed": false
   },
   "outputs": [],
   "source": [
    "### Finding expiry date to get expiry date transation detail\n",
    "t4 = t3.groupby(['msno']).agg({'expiry_dt' : 'max'})\n",
    "t4['msno'] = t4.index"
   ]
  },
  {
   "cell_type": "code",
   "execution_count": 15,
   "metadata": {
    "collapsed": false
   },
   "outputs": [
    {
     "data": {
      "text/html": [
       "<div>\n",
       "<table border=\"1\" class=\"dataframe\">\n",
       "  <thead>\n",
       "    <tr style=\"text-align: right;\">\n",
       "      <th></th>\n",
       "      <th>trans_dt</th>\n",
       "      <th>is_cancel</th>\n",
       "      <th>msno</th>\n",
       "      <th>payment_method_id</th>\n",
       "      <th>payment_plan_days</th>\n",
       "      <th>plan_list_price</th>\n",
       "      <th>actual_amount_paid</th>\n",
       "      <th>is_auto_renew</th>\n",
       "      <th>expiry_dt</th>\n",
       "    </tr>\n",
       "  </thead>\n",
       "  <tbody>\n",
       "    <tr>\n",
       "      <th>0</th>\n",
       "      <td>2016-10-23</td>\n",
       "      <td>0</td>\n",
       "      <td>+++IZseRRiQS9aaSkH6cMYU6bGDcxUieAi/tH67sC5s=</td>\n",
       "      <td>22.0</td>\n",
       "      <td>395.0</td>\n",
       "      <td>1599.0</td>\n",
       "      <td>1599.0</td>\n",
       "      <td>0.0</td>\n",
       "      <td>2018-02-06</td>\n",
       "    </tr>\n",
       "    <tr>\n",
       "      <th>1</th>\n",
       "      <td>2017-03-15</td>\n",
       "      <td>0</td>\n",
       "      <td>+++hVY1rZox/33YtvDgmKA2Frg/2qhkz12B9ylCvh8o=</td>\n",
       "      <td>41.0</td>\n",
       "      <td>30.0</td>\n",
       "      <td>99.0</td>\n",
       "      <td>99.0</td>\n",
       "      <td>1.0</td>\n",
       "      <td>2017-04-15</td>\n",
       "    </tr>\n",
       "    <tr>\n",
       "      <th>2</th>\n",
       "      <td>2017-03-31</td>\n",
       "      <td>0</td>\n",
       "      <td>+++l/EXNMLTijfLBa8p2TUVVVp2aFGSuUI/h7mLmthw=</td>\n",
       "      <td>39.0</td>\n",
       "      <td>30.0</td>\n",
       "      <td>149.0</td>\n",
       "      <td>149.0</td>\n",
       "      <td>1.0</td>\n",
       "      <td>2017-05-19</td>\n",
       "    </tr>\n",
       "  </tbody>\n",
       "</table>\n",
       "</div>"
      ],
      "text/plain": [
       "    trans_dt  is_cancel                                          msno  \\\n",
       "0 2016-10-23          0  +++IZseRRiQS9aaSkH6cMYU6bGDcxUieAi/tH67sC5s=   \n",
       "1 2017-03-15          0  +++hVY1rZox/33YtvDgmKA2Frg/2qhkz12B9ylCvh8o=   \n",
       "2 2017-03-31          0  +++l/EXNMLTijfLBa8p2TUVVVp2aFGSuUI/h7mLmthw=   \n",
       "\n",
       "   payment_method_id  payment_plan_days  plan_list_price  actual_amount_paid  \\\n",
       "0               22.0              395.0           1599.0              1599.0   \n",
       "1               41.0               30.0             99.0                99.0   \n",
       "2               39.0               30.0            149.0               149.0   \n",
       "\n",
       "   is_auto_renew  expiry_dt  \n",
       "0            0.0 2018-02-06  \n",
       "1            1.0 2017-04-15  \n",
       "2            1.0 2017-05-19  "
      ]
     },
     "execution_count": 15,
     "metadata": {},
     "output_type": "execute_result"
    }
   ],
   "source": [
    "### Merging on Max expiry_dt\n",
    "t5 = pd.merge(t3, t4, on = ('msno', 'expiry_dt'), how = 'inner').drop_duplicates(keep ='first')\n",
    "t5.head(3)"
   ]
  },
  {
   "cell_type": "code",
   "execution_count": 16,
   "metadata": {
    "collapsed": false
   },
   "outputs": [
    {
     "name": "stdout",
     "output_type": "stream",
     "text": [
      "zHMgxEojpM02p2xIwlwaRVseaYTRGPMjorCeG5sU9n8=    1\n",
      "qH9N8rBDPE9z3/qdNe/yQ7RSyF0Qyrouut6t5Vo1t4U=    1\n",
      "KNdBJzGSyU/vW/OVclaeNQXgApsyeAI3BLqIOorV+UM=    1\n",
      "Q8Bze+aPMbZLZuOD5sRGRg8y5M9SOoMn+cI9X5q04Ko=    1\n",
      "S3uaFlzTBolsIC7HZsq9TPi6RtLsV8UhQpsZLeHd0uY=    1\n",
      "Name: msno, dtype: int64\n",
      "\n",
      "Total Members :  (1197050,)\n",
      "\n",
      "     trans_dt  is_cancel                                          msno  \\\n",
      "0 2016-10-23          0  +++IZseRRiQS9aaSkH6cMYU6bGDcxUieAi/tH67sC5s=   \n",
      "1 2017-03-15          0  +++hVY1rZox/33YtvDgmKA2Frg/2qhkz12B9ylCvh8o=   \n",
      "2 2017-03-31          0  +++l/EXNMLTijfLBa8p2TUVVVp2aFGSuUI/h7mLmthw=   \n",
      "3 2017-03-26          0  +++snpr7pmobhLKUgSHTv/mpkqgBT0tQJ0zQj6qKrqc=   \n",
      "4 2017-03-15          0  ++/9R3sX37CjxbY/AaGvbwr3QkwElKBCtSvVzhCBDOk=   \n",
      "\n",
      "   payment_method_id  payment_plan_days  is_auto_renew  expiry_dt  \n",
      "0               22.0              395.0            0.0 2018-02-06  \n",
      "1               41.0               30.0            1.0 2017-04-15  \n",
      "2               39.0               30.0            1.0 2017-05-19  \n",
      "3               41.0               30.0            1.0 2017-04-26  \n",
      "4               41.0               30.0            1.0 2017-04-15  \n"
     ]
    }
   ],
   "source": [
    "### Dropping column 'plan_list_price', 'actual_amount_paid' and removing duplicates\n",
    "t_last = t5.drop(['plan_list_price', 'actual_amount_paid'], axis = 1).drop_duplicates(keep = 'first')\n",
    "print(t_last.msno.value_counts().head(5))\n",
    "print('\\nTotal Members : ' ,t_last.msno.value_counts().shape)\n",
    "print('\\n',t_last.head(5))"
   ]
  },
  {
   "cell_type": "code",
   "execution_count": 17,
   "metadata": {
    "collapsed": false
   },
   "outputs": [],
   "source": [
    "### Renaming columns of Last Transation table\n",
    "t_last.rename(columns= {'payment_method_id' : 'Last_payment_method_id',\n",
    "                        'payment_plan_days' : 'Last_payment_plan_days',\n",
    "                        'is_cancel' : 'Last_is_cancel',\n",
    "                        'is_auto_renew' : 'Last_is_auto_renew'\n",
    "                       }, inplace = True)"
   ]
  },
  {
   "cell_type": "code",
   "execution_count": 18,
   "metadata": {
    "collapsed": false
   },
   "outputs": [
    {
     "data": {
      "text/plain": [
       "Index(['msno', 'date', 'num_25', 'num_50', 'num_75', 'num_985', 'num_100',\n",
       "       'num_unq', 'total_secs'],\n",
       "      dtype='object')"
      ]
     },
     "execution_count": 18,
     "metadata": {},
     "output_type": "execute_result"
    }
   ],
   "source": [
    "user_log.columns"
   ]
  },
  {
   "cell_type": "code",
   "execution_count": 19,
   "metadata": {
    "collapsed": false
   },
   "outputs": [],
   "source": [
    "### Aggregating User Log details\n",
    "u1 = user_log.groupby('msno').agg({'num_25' : sum,\n",
    "                              'num_50' : sum,\n",
    "                              'num_75' : sum,\n",
    "                              'num_985' : sum,\n",
    "                              'num_100' : sum,\n",
    "                              'num_unq' : sum,\n",
    "                              'total_secs' :sum})"
   ]
  },
  {
   "cell_type": "code",
   "execution_count": 20,
   "metadata": {
    "collapsed": false
   },
   "outputs": [
    {
     "name": "stdout",
     "output_type": "stream",
     "text": [
      "total Records :  (1103894, 7) \n",
      "\n"
     ]
    }
   ],
   "source": [
    "print('total Records : ', u1.shape, '\\n')\n",
    "u1.head()\n",
    "u1['msno'] = u1.index"
   ]
  },
  {
   "cell_type": "code",
   "execution_count": 21,
   "metadata": {
    "collapsed": false
   },
   "outputs": [
    {
     "data": {
      "text/html": [
       "<div>\n",
       "<table border=\"1\" class=\"dataframe\">\n",
       "  <thead>\n",
       "    <tr style=\"text-align: right;\">\n",
       "      <th></th>\n",
       "      <th>actual_amount_paid</th>\n",
       "      <th>is_cancel</th>\n",
       "      <th>is_auto_renew</th>\n",
       "      <th>payment_plan_days</th>\n",
       "      <th>payment_method_id</th>\n",
       "      <th>msno</th>\n",
       "      <th>Last_is_cancel</th>\n",
       "      <th>Last_payment_method_id</th>\n",
       "      <th>Last_payment_plan_days</th>\n",
       "      <th>Last_is_auto_renew</th>\n",
       "    </tr>\n",
       "  </thead>\n",
       "  <tbody>\n",
       "    <tr>\n",
       "      <th>0</th>\n",
       "      <td>1599</td>\n",
       "      <td>0</td>\n",
       "      <td>0</td>\n",
       "      <td>395</td>\n",
       "      <td>1</td>\n",
       "      <td>+++IZseRRiQS9aaSkH6cMYU6bGDcxUieAi/tH67sC5s=</td>\n",
       "      <td>0</td>\n",
       "      <td>22.0</td>\n",
       "      <td>395.0</td>\n",
       "      <td>0.0</td>\n",
       "    </tr>\n",
       "    <tr>\n",
       "      <th>1</th>\n",
       "      <td>99</td>\n",
       "      <td>0</td>\n",
       "      <td>1</td>\n",
       "      <td>30</td>\n",
       "      <td>1</td>\n",
       "      <td>+++hVY1rZox/33YtvDgmKA2Frg/2qhkz12B9ylCvh8o=</td>\n",
       "      <td>0</td>\n",
       "      <td>41.0</td>\n",
       "      <td>30.0</td>\n",
       "      <td>1.0</td>\n",
       "    </tr>\n",
       "    <tr>\n",
       "      <th>2</th>\n",
       "      <td>298</td>\n",
       "      <td>0</td>\n",
       "      <td>1</td>\n",
       "      <td>60</td>\n",
       "      <td>2</td>\n",
       "      <td>+++l/EXNMLTijfLBa8p2TUVVVp2aFGSuUI/h7mLmthw=</td>\n",
       "      <td>0</td>\n",
       "      <td>39.0</td>\n",
       "      <td>30.0</td>\n",
       "      <td>1.0</td>\n",
       "    </tr>\n",
       "    <tr>\n",
       "      <th>3</th>\n",
       "      <td>149</td>\n",
       "      <td>0</td>\n",
       "      <td>1</td>\n",
       "      <td>30</td>\n",
       "      <td>1</td>\n",
       "      <td>+++snpr7pmobhLKUgSHTv/mpkqgBT0tQJ0zQj6qKrqc=</td>\n",
       "      <td>0</td>\n",
       "      <td>41.0</td>\n",
       "      <td>30.0</td>\n",
       "      <td>1.0</td>\n",
       "    </tr>\n",
       "    <tr>\n",
       "      <th>4</th>\n",
       "      <td>149</td>\n",
       "      <td>0</td>\n",
       "      <td>1</td>\n",
       "      <td>30</td>\n",
       "      <td>1</td>\n",
       "      <td>++/9R3sX37CjxbY/AaGvbwr3QkwElKBCtSvVzhCBDOk=</td>\n",
       "      <td>0</td>\n",
       "      <td>41.0</td>\n",
       "      <td>30.0</td>\n",
       "      <td>1.0</td>\n",
       "    </tr>\n",
       "  </tbody>\n",
       "</table>\n",
       "</div>"
      ],
      "text/plain": [
       "   actual_amount_paid  is_cancel  is_auto_renew  payment_plan_days  \\\n",
       "0                1599          0              0                395   \n",
       "1                  99          0              1                 30   \n",
       "2                 298          0              1                 60   \n",
       "3                 149          0              1                 30   \n",
       "4                 149          0              1                 30   \n",
       "\n",
       "   payment_method_id                                          msno  \\\n",
       "0                  1  +++IZseRRiQS9aaSkH6cMYU6bGDcxUieAi/tH67sC5s=   \n",
       "1                  1  +++hVY1rZox/33YtvDgmKA2Frg/2qhkz12B9ylCvh8o=   \n",
       "2                  2  +++l/EXNMLTijfLBa8p2TUVVVp2aFGSuUI/h7mLmthw=   \n",
       "3                  1  +++snpr7pmobhLKUgSHTv/mpkqgBT0tQJ0zQj6qKrqc=   \n",
       "4                  1  ++/9R3sX37CjxbY/AaGvbwr3QkwElKBCtSvVzhCBDOk=   \n",
       "\n",
       "   Last_is_cancel  Last_payment_method_id  Last_payment_plan_days  \\\n",
       "0               0                    22.0                   395.0   \n",
       "1               0                    41.0                    30.0   \n",
       "2               0                    39.0                    30.0   \n",
       "3               0                    41.0                    30.0   \n",
       "4               0                    41.0                    30.0   \n",
       "\n",
       "   Last_is_auto_renew  \n",
       "0                 0.0  \n",
       "1                 1.0  \n",
       "2                 1.0  \n",
       "3                 1.0  \n",
       "4                 1.0  "
      ]
     },
     "execution_count": 21,
     "metadata": {},
     "output_type": "execute_result"
    }
   ],
   "source": [
    "### Merging Last Transaction with total transaction detail\n",
    "Total_with_Last = pd.merge(t, t_last.drop(['trans_dt', 'expiry_dt'], axis =1), on = 'msno', how = 'inner')\n",
    "Total_with_Last.head()"
   ]
  },
  {
   "cell_type": "code",
   "execution_count": 22,
   "metadata": {
    "collapsed": false
   },
   "outputs": [
    {
     "data": {
      "text/html": [
       "<div>\n",
       "<table border=\"1\" class=\"dataframe\">\n",
       "  <thead>\n",
       "    <tr style=\"text-align: right;\">\n",
       "      <th></th>\n",
       "      <th>actual_amount_paid</th>\n",
       "      <th>is_cancel</th>\n",
       "      <th>is_auto_renew</th>\n",
       "      <th>payment_plan_days</th>\n",
       "      <th>payment_method_id</th>\n",
       "      <th>msno</th>\n",
       "      <th>Last_is_cancel</th>\n",
       "      <th>Last_payment_method_id</th>\n",
       "      <th>Last_payment_plan_days</th>\n",
       "      <th>Last_is_auto_renew</th>\n",
       "      <th>num_50</th>\n",
       "      <th>num_unq</th>\n",
       "      <th>total_secs</th>\n",
       "      <th>num_100</th>\n",
       "      <th>num_75</th>\n",
       "      <th>num_985</th>\n",
       "      <th>num_25</th>\n",
       "    </tr>\n",
       "  </thead>\n",
       "  <tbody>\n",
       "    <tr>\n",
       "      <th>0</th>\n",
       "      <td>1599</td>\n",
       "      <td>0</td>\n",
       "      <td>0</td>\n",
       "      <td>395</td>\n",
       "      <td>1</td>\n",
       "      <td>+++IZseRRiQS9aaSkH6cMYU6bGDcxUieAi/tH67sC5s=</td>\n",
       "      <td>0</td>\n",
       "      <td>22.0</td>\n",
       "      <td>395.0</td>\n",
       "      <td>0.0</td>\n",
       "      <td>11</td>\n",
       "      <td>530</td>\n",
       "      <td>117907.425</td>\n",
       "      <td>472</td>\n",
       "      <td>10</td>\n",
       "      <td>5</td>\n",
       "      <td>86</td>\n",
       "    </tr>\n",
       "    <tr>\n",
       "      <th>1</th>\n",
       "      <td>99</td>\n",
       "      <td>0</td>\n",
       "      <td>1</td>\n",
       "      <td>30</td>\n",
       "      <td>1</td>\n",
       "      <td>+++hVY1rZox/33YtvDgmKA2Frg/2qhkz12B9ylCvh8o=</td>\n",
       "      <td>0</td>\n",
       "      <td>41.0</td>\n",
       "      <td>30.0</td>\n",
       "      <td>1.0</td>\n",
       "      <td>90</td>\n",
       "      <td>885</td>\n",
       "      <td>192527.892</td>\n",
       "      <td>589</td>\n",
       "      <td>75</td>\n",
       "      <td>144</td>\n",
       "      <td>191</td>\n",
       "    </tr>\n",
       "    <tr>\n",
       "      <th>2</th>\n",
       "      <td>298</td>\n",
       "      <td>0</td>\n",
       "      <td>1</td>\n",
       "      <td>60</td>\n",
       "      <td>2</td>\n",
       "      <td>+++l/EXNMLTijfLBa8p2TUVVVp2aFGSuUI/h7mLmthw=</td>\n",
       "      <td>0</td>\n",
       "      <td>39.0</td>\n",
       "      <td>30.0</td>\n",
       "      <td>1.0</td>\n",
       "      <td>12</td>\n",
       "      <td>468</td>\n",
       "      <td>115411.260</td>\n",
       "      <td>485</td>\n",
       "      <td>15</td>\n",
       "      <td>12</td>\n",
       "      <td>43</td>\n",
       "    </tr>\n",
       "    <tr>\n",
       "      <th>3</th>\n",
       "      <td>149</td>\n",
       "      <td>0</td>\n",
       "      <td>1</td>\n",
       "      <td>30</td>\n",
       "      <td>1</td>\n",
       "      <td>+++snpr7pmobhLKUgSHTv/mpkqgBT0tQJ0zQj6qKrqc=</td>\n",
       "      <td>0</td>\n",
       "      <td>41.0</td>\n",
       "      <td>30.0</td>\n",
       "      <td>1.0</td>\n",
       "      <td>163</td>\n",
       "      <td>828</td>\n",
       "      <td>149896.558</td>\n",
       "      <td>436</td>\n",
       "      <td>100</td>\n",
       "      <td>64</td>\n",
       "      <td>207</td>\n",
       "    </tr>\n",
       "    <tr>\n",
       "      <th>4</th>\n",
       "      <td>149</td>\n",
       "      <td>0</td>\n",
       "      <td>1</td>\n",
       "      <td>30</td>\n",
       "      <td>1</td>\n",
       "      <td>++/9R3sX37CjxbY/AaGvbwr3QkwElKBCtSvVzhCBDOk=</td>\n",
       "      <td>0</td>\n",
       "      <td>41.0</td>\n",
       "      <td>30.0</td>\n",
       "      <td>1.0</td>\n",
       "      <td>24</td>\n",
       "      <td>230</td>\n",
       "      <td>116433.247</td>\n",
       "      <td>479</td>\n",
       "      <td>39</td>\n",
       "      <td>35</td>\n",
       "      <td>105</td>\n",
       "    </tr>\n",
       "  </tbody>\n",
       "</table>\n",
       "</div>"
      ],
      "text/plain": [
       "   actual_amount_paid  is_cancel  is_auto_renew  payment_plan_days  \\\n",
       "0                1599          0              0                395   \n",
       "1                  99          0              1                 30   \n",
       "2                 298          0              1                 60   \n",
       "3                 149          0              1                 30   \n",
       "4                 149          0              1                 30   \n",
       "\n",
       "   payment_method_id                                          msno  \\\n",
       "0                  1  +++IZseRRiQS9aaSkH6cMYU6bGDcxUieAi/tH67sC5s=   \n",
       "1                  1  +++hVY1rZox/33YtvDgmKA2Frg/2qhkz12B9ylCvh8o=   \n",
       "2                  2  +++l/EXNMLTijfLBa8p2TUVVVp2aFGSuUI/h7mLmthw=   \n",
       "3                  1  +++snpr7pmobhLKUgSHTv/mpkqgBT0tQJ0zQj6qKrqc=   \n",
       "4                  1  ++/9R3sX37CjxbY/AaGvbwr3QkwElKBCtSvVzhCBDOk=   \n",
       "\n",
       "   Last_is_cancel  Last_payment_method_id  Last_payment_plan_days  \\\n",
       "0               0                    22.0                   395.0   \n",
       "1               0                    41.0                    30.0   \n",
       "2               0                    39.0                    30.0   \n",
       "3               0                    41.0                    30.0   \n",
       "4               0                    41.0                    30.0   \n",
       "\n",
       "   Last_is_auto_renew  num_50  num_unq  total_secs  num_100  num_75  num_985  \\\n",
       "0                 0.0      11      530  117907.425      472      10        5   \n",
       "1                 1.0      90      885  192527.892      589      75      144   \n",
       "2                 1.0      12      468  115411.260      485      15       12   \n",
       "3                 1.0     163      828  149896.558      436     100       64   \n",
       "4                 1.0      24      230  116433.247      479      39       35   \n",
       "\n",
       "   num_25  \n",
       "0      86  \n",
       "1     191  \n",
       "2      43  \n",
       "3     207  \n",
       "4     105  "
      ]
     },
     "execution_count": 22,
     "metadata": {},
     "output_type": "execute_result"
    }
   ],
   "source": [
    "### Merging Total_with_Last with user log\n",
    "Total_with_last_with_log = pd.merge(Total_with_Last, u1, on = 'msno', how = 'inner')\n",
    "Total_with_last_with_log.head(5)"
   ]
  },
  {
   "cell_type": "code",
   "execution_count": 23,
   "metadata": {
    "collapsed": false
   },
   "outputs": [],
   "source": [
    "### Dropping NA \n",
    "Total_with_last_with_log.dropna(inplace= True)"
   ]
  },
  {
   "cell_type": "code",
   "execution_count": 24,
   "metadata": {
    "collapsed": false
   },
   "outputs": [
    {
     "data": {
      "text/html": [
       "<div>\n",
       "<table border=\"1\" class=\"dataframe\">\n",
       "  <thead>\n",
       "    <tr style=\"text-align: right;\">\n",
       "      <th></th>\n",
       "      <th>actual_amount_paid</th>\n",
       "      <th>is_cancel</th>\n",
       "      <th>is_auto_renew</th>\n",
       "      <th>payment_plan_days</th>\n",
       "      <th>payment_method_id</th>\n",
       "      <th>msno</th>\n",
       "      <th>Last_is_cancel</th>\n",
       "      <th>Last_payment_method_id</th>\n",
       "      <th>Last_payment_plan_days</th>\n",
       "      <th>Last_is_auto_renew</th>\n",
       "      <th>num_50</th>\n",
       "      <th>num_unq</th>\n",
       "      <th>total_secs</th>\n",
       "      <th>num_100</th>\n",
       "      <th>num_75</th>\n",
       "      <th>num_985</th>\n",
       "      <th>num_25</th>\n",
       "      <th>is_churn</th>\n",
       "    </tr>\n",
       "  </thead>\n",
       "  <tbody>\n",
       "    <tr>\n",
       "      <th>0</th>\n",
       "      <td>99</td>\n",
       "      <td>0</td>\n",
       "      <td>1</td>\n",
       "      <td>30</td>\n",
       "      <td>1</td>\n",
       "      <td>+++hVY1rZox/33YtvDgmKA2Frg/2qhkz12B9ylCvh8o=</td>\n",
       "      <td>0</td>\n",
       "      <td>41.0</td>\n",
       "      <td>30.0</td>\n",
       "      <td>1.0</td>\n",
       "      <td>90</td>\n",
       "      <td>885</td>\n",
       "      <td>192527.892</td>\n",
       "      <td>589</td>\n",
       "      <td>75</td>\n",
       "      <td>144</td>\n",
       "      <td>191</td>\n",
       "      <td>0</td>\n",
       "    </tr>\n",
       "    <tr>\n",
       "      <th>1</th>\n",
       "      <td>298</td>\n",
       "      <td>0</td>\n",
       "      <td>1</td>\n",
       "      <td>60</td>\n",
       "      <td>2</td>\n",
       "      <td>+++l/EXNMLTijfLBa8p2TUVVVp2aFGSuUI/h7mLmthw=</td>\n",
       "      <td>0</td>\n",
       "      <td>39.0</td>\n",
       "      <td>30.0</td>\n",
       "      <td>1.0</td>\n",
       "      <td>12</td>\n",
       "      <td>468</td>\n",
       "      <td>115411.260</td>\n",
       "      <td>485</td>\n",
       "      <td>15</td>\n",
       "      <td>12</td>\n",
       "      <td>43</td>\n",
       "      <td>0</td>\n",
       "    </tr>\n",
       "    <tr>\n",
       "      <th>2</th>\n",
       "      <td>149</td>\n",
       "      <td>0</td>\n",
       "      <td>1</td>\n",
       "      <td>30</td>\n",
       "      <td>1</td>\n",
       "      <td>+++snpr7pmobhLKUgSHTv/mpkqgBT0tQJ0zQj6qKrqc=</td>\n",
       "      <td>0</td>\n",
       "      <td>41.0</td>\n",
       "      <td>30.0</td>\n",
       "      <td>1.0</td>\n",
       "      <td>163</td>\n",
       "      <td>828</td>\n",
       "      <td>149896.558</td>\n",
       "      <td>436</td>\n",
       "      <td>100</td>\n",
       "      <td>64</td>\n",
       "      <td>207</td>\n",
       "      <td>0</td>\n",
       "    </tr>\n",
       "  </tbody>\n",
       "</table>\n",
       "</div>"
      ],
      "text/plain": [
       "   actual_amount_paid  is_cancel  is_auto_renew  payment_plan_days  \\\n",
       "0                  99          0              1                 30   \n",
       "1                 298          0              1                 60   \n",
       "2                 149          0              1                 30   \n",
       "\n",
       "   payment_method_id                                          msno  \\\n",
       "0                  1  +++hVY1rZox/33YtvDgmKA2Frg/2qhkz12B9ylCvh8o=   \n",
       "1                  2  +++l/EXNMLTijfLBa8p2TUVVVp2aFGSuUI/h7mLmthw=   \n",
       "2                  1  +++snpr7pmobhLKUgSHTv/mpkqgBT0tQJ0zQj6qKrqc=   \n",
       "\n",
       "   Last_is_cancel  Last_payment_method_id  Last_payment_plan_days  \\\n",
       "0               0                    41.0                    30.0   \n",
       "1               0                    39.0                    30.0   \n",
       "2               0                    41.0                    30.0   \n",
       "\n",
       "   Last_is_auto_renew  num_50  num_unq  total_secs  num_100  num_75  num_985  \\\n",
       "0                 1.0      90      885  192527.892      589      75      144   \n",
       "1                 1.0      12      468  115411.260      485      15       12   \n",
       "2                 1.0     163      828  149896.558      436     100       64   \n",
       "\n",
       "   num_25  is_churn  \n",
       "0     191         0  \n",
       "1      43         0  \n",
       "2     207         0  "
      ]
     },
     "execution_count": 24,
     "metadata": {},
     "output_type": "execute_result"
    }
   ],
   "source": [
    "### Merging with churn\n",
    "Final = pd.merge(Total_with_last_with_log, train_data, on = 'msno', how = 'inner')\n",
    "Final.head(3)"
   ]
  },
  {
   "cell_type": "code",
   "execution_count": 25,
   "metadata": {
    "collapsed": false
   },
   "outputs": [],
   "source": [
    "### train test split\n",
    "x_train, x_test, y_train, y_test = train_test_split(Final.drop('is_churn', axis = 1), Final.is_churn, \n",
    "                                                    test_size=0.33, random_state=42)"
   ]
  },
  {
   "cell_type": "code",
   "execution_count": 26,
   "metadata": {
    "collapsed": false
   },
   "outputs": [
    {
     "name": "stdout",
     "output_type": "stream",
     "text": [
      "x_train :  (482410, 17) \n",
      "\n",
      "x_test :  (237605, 17) \n",
      "\n",
      "y_train :  (482410,) \n",
      "\n",
      "y_test :  (237605,) \n",
      "\n"
     ]
    }
   ],
   "source": [
    "print('x_train : ', x_train.shape, '\\n')\n",
    "print('x_test : ', x_test.shape, '\\n')\n",
    "print('y_train : ', y_train.shape, '\\n')\n",
    "print('y_test : ', y_test.shape, '\\n')"
   ]
  },
  {
   "cell_type": "code",
   "execution_count": 27,
   "metadata": {
    "collapsed": false
   },
   "outputs": [],
   "source": [
    "rf = RandomForestClassifier()"
   ]
  },
  {
   "cell_type": "code",
   "execution_count": 28,
   "metadata": {
    "collapsed": false
   },
   "outputs": [
    {
     "data": {
      "text/plain": [
       "RandomForestClassifier(bootstrap=True, class_weight=None, criterion='gini',\n",
       "            max_depth=None, max_features='auto', max_leaf_nodes=None,\n",
       "            min_samples_leaf=1, min_samples_split=2,\n",
       "            min_weight_fraction_leaf=0.0, n_estimators=10, n_jobs=1,\n",
       "            oob_score=False, random_state=None, verbose=0,\n",
       "            warm_start=False)"
      ]
     },
     "execution_count": 28,
     "metadata": {},
     "output_type": "execute_result"
    }
   ],
   "source": [
    "rf.fit(x_train.drop('msno', axis =1), y_train)"
   ]
  },
  {
   "cell_type": "code",
   "execution_count": 29,
   "metadata": {
    "collapsed": false
   },
   "outputs": [
    {
     "data": {
      "text/plain": [
       "([<matplotlib.axis.XTick at 0x164ea4400>,\n",
       "  <matplotlib.axis.XTick at 0x17f118ef0>,\n",
       "  <matplotlib.axis.XTick at 0x164e90c88>,\n",
       "  <matplotlib.axis.XTick at 0x17f12c5c0>,\n",
       "  <matplotlib.axis.XTick at 0x165d88518>,\n",
       "  <matplotlib.axis.XTick at 0x165d88f28>,\n",
       "  <matplotlib.axis.XTick at 0x171206978>,\n",
       "  <matplotlib.axis.XTick at 0x17121b3c8>,\n",
       "  <matplotlib.axis.XTick at 0x17121bdd8>,\n",
       "  <matplotlib.axis.XTick at 0x171227828>,\n",
       "  <matplotlib.axis.XTick at 0x17122e278>,\n",
       "  <matplotlib.axis.XTick at 0x17122ec88>,\n",
       "  <matplotlib.axis.XTick at 0x1712336d8>,\n",
       "  <matplotlib.axis.XTick at 0x1711fa128>,\n",
       "  <matplotlib.axis.XTick at 0x1711fab38>,\n",
       "  <matplotlib.axis.XTick at 0x1711fd588>],\n",
       " <a list of 16 Text xticklabel objects>)"
      ]
     },
     "execution_count": 29,
     "metadata": {},
     "output_type": "execute_result"
    },
    {
     "data": {
      "image/png": "[encoded data removed]",
      "text/plain": [
       "<matplotlib.figure.Figure at 0x104729240>"
      ]
     },
     "metadata": {},
     "output_type": "display_data"
    }
   ],
   "source": [
    "#### Finding Important Features\n",
    "a = pd.DataFrame({'Column' : x_train.drop('msno', axis =1).columns,\n",
    "             'Importance' : rf.feature_importances_})\n",
    "a = a.sort_values('Importance', ascending= False)\n",
    "a = a.reset_index(drop=True)\n",
    "plt.bar(a.index, a.Importance)\n",
    "plt.xticks(a.index+.5,a.Column, rotation = 90)"
   ]
  },
  {
   "cell_type": "code",
   "execution_count": 30,
   "metadata": {
    "collapsed": false
   },
   "outputs": [
    {
     "data": {
      "text/plain": [
       "0.99611119172488127"
      ]
     },
     "execution_count": 30,
     "metadata": {},
     "output_type": "execute_result"
    }
   ],
   "source": [
    "rf.score(x_train.drop('msno', axis =1), y_train)"
   ]
  },
  {
   "cell_type": "code",
   "execution_count": 31,
   "metadata": {
    "collapsed": false
   },
   "outputs": [
    {
     "data": {
      "text/plain": [
       "array([[451580,     82],\n",
       "       [  1794,  28954]])"
      ]
     },
     "execution_count": 31,
     "metadata": {},
     "output_type": "execute_result"
    }
   ],
   "source": [
    "#### Confusion metrix\n",
    "y_pred = rf.predict(x_train.drop('msno', axis =1))\n",
    "confusion_matrix(y_train, y_pred)"
   ]
  },
  {
   "cell_type": "code",
   "execution_count": 32,
   "metadata": {
    "collapsed": false
   },
   "outputs": [
    {
     "data": {
      "text/plain": [
       "0.97073659504025667"
      ]
     },
     "execution_count": 32,
     "metadata": {},
     "output_type": "execute_result"
    }
   ],
   "source": [
    "#### Checking roc_auc_score\n",
    "roc_auc_score(y_score=y_pred, y_true=y_train )"
   ]
  },
  {
   "cell_type": "code",
   "execution_count": 33,
   "metadata": {
    "collapsed": false
   },
   "outputs": [
    {
     "data": {
      "text/plain": [
       "0.97457965951894954"
      ]
     },
     "execution_count": 33,
     "metadata": {},
     "output_type": "execute_result"
    }
   ],
   "source": [
    "#### Checking accuracy score on test data\n",
    "y_test_pred = rf.predict(x_test.drop('msno', axis =1))\n",
    "accuracy_score(y_pred=y_test_pred, y_true=y_test)"
   ]
  },
  {
   "cell_type": "code",
   "execution_count": 34,
   "metadata": {
    "collapsed": false
   },
   "outputs": [],
   "source": [
    "#### cross_val for tuning n_estimators\n",
    "m_estimate = np.arange(20,75,8)\n",
    "m_result = []\n",
    "for i in range(0,len(m_estimate)):\n",
    "    rf1 = RandomForestClassifier(n_estimators = m_estimate[i])\n",
    "    s1 = np.mean(cross_val_score(rf1, X=Final.drop(['is_churn','msno'], axis = 1), y=Final.is_churn, scoring='accuracy', cv = 4))\n",
    "    m_result.append(s1)"
   ]
  },
  {
   "cell_type": "code",
   "execution_count": 36,
   "metadata": {
    "collapsed": false
   },
   "outputs": [
    {
     "data": {
      "text/plain": [
       "[0.97521162672486039,\n",
       " 0.9752894029517446,\n",
       " 0.97548106599965489,\n",
       " 0.9753935682603988,\n",
       " 0.97551023203361997,\n",
       " 0.97548801035922394,\n",
       " 0.97554217588393988]"
      ]
     },
     "execution_count": 36,
     "metadata": {},
     "output_type": "execute_result"
    }
   ],
   "source": [
    "m_result"
   ]
  },
  {
   "cell_type": "code",
   "execution_count": 35,
   "metadata": {
    "collapsed": false
   },
   "outputs": [
    {
     "data": {
      "text/plain": [
       "<matplotlib.text.Text at 0x17f133588>"
      ]
     },
     "execution_count": 35,
     "metadata": {},
     "output_type": "execute_result"
    },
    {
     "data": {
      "image/png": "[encoded data removed]",
      "text/plain": [
       "<matplotlib.figure.Figure at 0x171227198>"
      ]
     },
     "metadata": {},
     "output_type": "display_data"
    }
   ],
   "source": [
    "plt.plot(m_estimate, m_result)\n",
    "plt.xlabel('No of Estimators')\n",
    "plt.ylabel('Accuracy Score')"
   ]
  },
  {
   "cell_type": "code",
   "execution_count": 38,
   "metadata": {
    "collapsed": false
   },
   "outputs": [
    {
     "data": {
      "text/plain": [
       "<matplotlib.text.Text at 0x15cc0fc50>"
      ]
     },
     "execution_count": 38,
     "metadata": {},
     "output_type": "execute_result"
    },
    {
     "data": {
      "image/png": "[encoded data removed]",
      "text/plain": [
       "<matplotlib.figure.Figure at 0x15c87fac8>"
      ]
     },
     "metadata": {},
     "output_type": "display_data"
    }
   ],
   "source": [
    "#### cross_val for tuning max_features\n",
    "m_features = np.arange(5,15,2)\n",
    "m_result1 = []\n",
    "for i in range(0,len(m_features)):\n",
    "    rf1 = RandomForestClassifier(max_features = m_features[i])\n",
    "    s1 = np.mean(cross_val_score(rf1, X=Final.drop(['is_churn','msno'], axis = 1), y=Final.is_churn, scoring='accuracy', cv = 4))\n",
    "    m_result1.append(s1)\n",
    "plt.plot(m_features, m_result1)\n",
    "plt.xlabel('Mx features in Tree')\n",
    "plt.ylabel('Accuracy Score')"
   ]
  },
  {
   "cell_type": "code",
   "execution_count": 44,
   "metadata": {
    "collapsed": false
   },
   "outputs": [
    {
     "data": {
      "text/plain": [
       "RandomForestClassifier(bootstrap=True, class_weight=None, criterion='gini',\n",
       "            max_depth=None, max_features=9, max_leaf_nodes=None,\n",
       "            min_samples_leaf=1, min_samples_split=2,\n",
       "            min_weight_fraction_leaf=0.0, n_estimators=52, n_jobs=1,\n",
       "            oob_score=False, random_state=117, verbose=0, warm_start=False)"
      ]
     },
     "execution_count": 44,
     "metadata": {},
     "output_type": "execute_result"
    }
   ],
   "source": [
    "#### Ensemble Random Forest with multiple models of different random states for better accuracy\n",
    "rf_final1 = RandomForestClassifier(n_estimators=52, max_features=9, random_state=123)\n",
    "rf_final1.fit(X=Final.drop(['is_churn','msno'], axis = 1), y=Final.is_churn)\n",
    "\n",
    "rf_final2 = RandomForestClassifier(n_estimators=52, max_features=9, random_state=145)\n",
    "rf_final2.fit(X=Final.drop(['is_churn','msno'], axis = 1), y=Final.is_churn)\n",
    "\n",
    "rf_final3 = RandomForestClassifier(n_estimators=52, max_features=9, random_state=117)\n",
    "rf_final3.fit(X=Final.drop(['is_churn','msno'], axis = 1), y=Final.is_churn)"
   ]
  },
  {
   "cell_type": "code",
   "execution_count": 85,
   "metadata": {
    "collapsed": false
   },
   "outputs": [
    {
     "data": {
      "text/plain": [
       "(907471, 2)"
      ]
     },
     "execution_count": 85,
     "metadata": {},
     "output_type": "execute_result"
    }
   ],
   "source": [
    "#### Reading Final Submission file\n",
    "Final_Submission = pd.read_csv('sample_submission_v2.csv')\n",
    "Final_Submission.shape"
   ]
  },
  {
   "cell_type": "code",
   "execution_count": 96,
   "metadata": {
    "collapsed": false
   },
   "outputs": [
    {
     "name": "stdout",
     "output_type": "stream",
     "text": [
      "yar9OotTzPtAHZ3mBrN+TyFBqTAqGEpKd/VKMDsRa/o=    1\n",
      "85fkh4wEXjUFWivh3YEWcL3Eu0PnkqAyv6j31zucrOQ=    1\n",
      "YYLRopTimppJyvmwpwfaB4f3J0xSQJDsf5q0gbWqaNQ=    1\n",
      "8GQEouIW0OdruSZQre2egB8gKUhe0KeNmVcLsFnh11s=    1\n",
      "w6ifafhP6GI2qix+58weKkqY0BfjJuv32sHAAAXKaro=    1\n",
      "Name: msno, dtype: int64\n",
      "\n",
      " (907470,)\n"
     ]
    }
   ],
   "source": [
    "#### Preparing Attributes for final submission\n",
    "Total_Final = pd.merge(Total_with_Last, u1, on = 'msno', how = 'left')\n",
    "Total_Final = Total_Final.fillna(0)\n",
    "\n",
    "#### Merging Attribute data with Final_Submission\n",
    "Final_Submission1 = pd.merge(Total_Final, Final_Submission, on = 'msno', how ='inner')\n",
    "print(Final_Submission1.msno.value_counts().head(5))\n",
    "print('\\n', Final_Submission1.msno.value_counts().shape)"
   ]
  },
  {
   "cell_type": "code",
   "execution_count": 98,
   "metadata": {
    "collapsed": false
   },
   "outputs": [],
   "source": [
    "#### Ensembling output of three random forest\n",
    "p1 = .30*rf_final1.predict_proba(Final_Submission1.drop(['is_churn', 'msno'], axis = 1))\n",
    "p2 = .35*rf_final2.predict_proba(Final_Submission1.drop(['is_churn', 'msno'], axis = 1))\n",
    "p3 = .35*rf_final3.predict_proba(Final_Submission1.drop(['is_churn', 'msno'], axis = 1))\n",
    "\n",
    "p_final = p1 + p2 + p3"
   ]
  },
  {
   "cell_type": "code",
   "execution_count": 110,
   "metadata": {
    "collapsed": false
   },
   "outputs": [],
   "source": [
    "#### Binarizing p_final with threshold of .5\n",
    "output = binarize(p_final, threshold=0.5)"
   ]
  },
  {
   "cell_type": "code",
   "execution_count": 179,
   "metadata": {
    "collapsed": false
   },
   "outputs": [],
   "source": [
    "Final_Sub_v1 = pd.DataFrame({'msno' : Final_Submission1['msno'],\n",
    "                                 'is_churn' : p_final[:,1]})"
   ]
  },
  {
   "cell_type": "code",
   "execution_count": 180,
   "metadata": {
    "collapsed": false
   },
   "outputs": [
    {
     "data": {
      "text/html": [
       "<div>\n",
       "<table border=\"1\" class=\"dataframe\">\n",
       "  <thead>\n",
       "    <tr style=\"text-align: right;\">\n",
       "      <th></th>\n",
       "      <th>is_churn</th>\n",
       "      <th>msno</th>\n",
       "    </tr>\n",
       "  </thead>\n",
       "  <tbody>\n",
       "    <tr>\n",
       "      <th>0</th>\n",
       "      <td>1.0</td>\n",
       "      <td>+++hVY1rZox/33YtvDgmKA2Frg/2qhkz12B9ylCvh8o=</td>\n",
       "    </tr>\n",
       "    <tr>\n",
       "      <th>1</th>\n",
       "      <td>1.0</td>\n",
       "      <td>+++snpr7pmobhLKUgSHTv/mpkqgBT0tQJ0zQj6qKrqc=</td>\n",
       "    </tr>\n",
       "    <tr>\n",
       "      <th>2</th>\n",
       "      <td>1.0</td>\n",
       "      <td>++/9R3sX37CjxbY/AaGvbwr3QkwElKBCtSvVzhCBDOk=</td>\n",
       "    </tr>\n",
       "    <tr>\n",
       "      <th>3</th>\n",
       "      <td>1.0</td>\n",
       "      <td>++0/NopttBsaAn6qHZA2AWWrDg7Me7UOMs1vsyo4tSI=</td>\n",
       "    </tr>\n",
       "    <tr>\n",
       "      <th>4</th>\n",
       "      <td>1.0</td>\n",
       "      <td>++0BJXY8tpirgIhJR14LDM1pnaRosjD1mdO1mIKxlJA=</td>\n",
       "    </tr>\n",
       "  </tbody>\n",
       "</table>\n",
       "</div>"
      ],
      "text/plain": [
       "   is_churn                                          msno\n",
       "0       1.0  +++hVY1rZox/33YtvDgmKA2Frg/2qhkz12B9ylCvh8o=\n",
       "1       1.0  +++snpr7pmobhLKUgSHTv/mpkqgBT0tQJ0zQj6qKrqc=\n",
       "2       1.0  ++/9R3sX37CjxbY/AaGvbwr3QkwElKBCtSvVzhCBDOk=\n",
       "3       1.0  ++0/NopttBsaAn6qHZA2AWWrDg7Me7UOMs1vsyo4tSI=\n",
       "4       1.0  ++0BJXY8tpirgIhJR14LDM1pnaRosjD1mdO1mIKxlJA="
      ]
     },
     "execution_count": 180,
     "metadata": {},
     "output_type": "execute_result"
    }
   ],
   "source": [
    "f2.head()"
   ]
  },
  {
   "cell_type": "code",
   "execution_count": 181,
   "metadata": {
    "collapsed": false
   },
   "outputs": [
    {
     "data": {
      "text/plain": [
       "(907471, 2)"
      ]
     },
     "execution_count": 181,
     "metadata": {},
     "output_type": "execute_result"
    }
   ],
   "source": [
    "f2 = Final_Sub_v1.append(pd.DataFrame({'msno' : ['VJx7ZXB+BP/true7UpJTYyAsv7ItjWWaRrtY/Zg0+VE='],\n",
    "                   'is_churn' : [1]}))\n",
    "f2.shape"
   ]
  },
  {
   "cell_type": "code",
   "execution_count": 182,
   "metadata": {
    "collapsed": true
   },
   "outputs": [],
   "source": [
    "f2.to_csv('Final_Sub_v1.csv', sep = ',', index=False, header=True)"
   ]
  },
  {
   "cell_type": "code",
   "execution_count": 183,
   "metadata": {
    "collapsed": false
   },
   "outputs": [
    {
     "data": {
      "text/html": [
       "<div>\n",
       "<table border=\"1\" class=\"dataframe\">\n",
       "  <thead>\n",
       "    <tr style=\"text-align: right;\">\n",
       "      <th></th>\n",
       "      <th>is_churn</th>\n",
       "      <th>msno</th>\n",
       "    </tr>\n",
       "  </thead>\n",
       "  <tbody>\n",
       "    <tr>\n",
       "      <th>0</th>\n",
       "      <td>0.005769</td>\n",
       "      <td>+++hVY1rZox/33YtvDgmKA2Frg/2qhkz12B9ylCvh8o=</td>\n",
       "    </tr>\n",
       "    <tr>\n",
       "      <th>1</th>\n",
       "      <td>0.000000</td>\n",
       "      <td>+++snpr7pmobhLKUgSHTv/mpkqgBT0tQJ0zQj6qKrqc=</td>\n",
       "    </tr>\n",
       "    <tr>\n",
       "      <th>2</th>\n",
       "      <td>0.020192</td>\n",
       "      <td>++/9R3sX37CjxbY/AaGvbwr3QkwElKBCtSvVzhCBDOk=</td>\n",
       "    </tr>\n",
       "    <tr>\n",
       "      <th>3</th>\n",
       "      <td>0.000000</td>\n",
       "      <td>++0/NopttBsaAn6qHZA2AWWrDg7Me7UOMs1vsyo4tSI=</td>\n",
       "    </tr>\n",
       "    <tr>\n",
       "      <th>4</th>\n",
       "      <td>0.020192</td>\n",
       "      <td>++0BJXY8tpirgIhJR14LDM1pnaRosjD1mdO1mIKxlJA=</td>\n",
       "    </tr>\n",
       "  </tbody>\n",
       "</table>\n",
       "</div>"
      ],
      "text/plain": [
       "   is_churn                                          msno\n",
       "0  0.005769  +++hVY1rZox/33YtvDgmKA2Frg/2qhkz12B9ylCvh8o=\n",
       "1  0.000000  +++snpr7pmobhLKUgSHTv/mpkqgBT0tQJ0zQj6qKrqc=\n",
       "2  0.020192  ++/9R3sX37CjxbY/AaGvbwr3QkwElKBCtSvVzhCBDOk=\n",
       "3  0.000000  ++0/NopttBsaAn6qHZA2AWWrDg7Me7UOMs1vsyo4tSI=\n",
       "4  0.020192  ++0BJXY8tpirgIhJR14LDM1pnaRosjD1mdO1mIKxlJA="
      ]
     },
     "execution_count": 183,
     "metadata": {},
     "output_type": "execute_result"
    }
   ],
   "source": [
    "Final_Sub_v1.head()"
   ]
  },
  {
   "cell_type": "code",
   "execution_count": null,
   "metadata": {
    "collapsed": true
   },
   "outputs": [],
   "source": []
  }
 ],
 "metadata": {
  "anaconda-cloud": {},
  "kernelspec": {
   "display_name": "Python [conda root]",
   "language": "python",
   "name": "conda-root-py"
  },
  "language_info": {
   "codemirror_mode": {
    "name": "ipython",
    "version": 3
   },
   "file_extension": ".py",
   "mimetype": "text/x-python",
   "name": "python",
   "nbconvert_exporter": "python",
   "pygments_lexer": "ipython3",
   "version": "3.5.2"
  }
 },
 "nbformat": 4,
 "nbformat_minor": 1
}
