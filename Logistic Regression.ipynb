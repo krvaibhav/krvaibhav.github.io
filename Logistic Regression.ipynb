{
 "cells": [
  {
   "cell_type": "code",
   "execution_count": 3,
   "metadata": {
    "collapsed": true
   },
   "outputs": [],
   "source": [
    "import pandas as pd\n",
    "import numpy as np\n",
    "import matplotlib.pyplot as plt\n",
    "%matplotlib inline"
   ]
  },
  {
   "cell_type": "code",
   "execution_count": 1,
   "metadata": {
    "collapsed": true
   },
   "outputs": [],
   "source": [
    "from sklearn.linear_model import LogisticRegression\n",
    "from sklearn.cross_validation import train_test_split"
   ]
  },
  {
   "cell_type": "code",
   "execution_count": 2,
   "metadata": {
    "collapsed": true
   },
   "outputs": [],
   "source": [
    "import os"
   ]
  },
  {
   "cell_type": "code",
   "execution_count": 4,
   "metadata": {
    "collapsed": false
   },
   "outputs": [],
   "source": [
    "used_cars = pd.read_csv(\"G:/Python/usedcars.csv\")"
   ]
  },
  {
   "cell_type": "code",
   "execution_count": 5,
   "metadata": {
    "collapsed": false
   },
   "outputs": [
    {
     "data": {
      "text/html": [
       "<div>\n",
       "<table border=\"1\" class=\"dataframe\">\n",
       "  <thead>\n",
       "    <tr style=\"text-align: right;\">\n",
       "      <th></th>\n",
       "      <th>RefId</th>\n",
       "      <th>IsBadBuy</th>\n",
       "      <th>PurchDate</th>\n",
       "      <th>Auction</th>\n",
       "      <th>VehYear</th>\n",
       "      <th>VehicleAge</th>\n",
       "      <th>Make</th>\n",
       "      <th>Model</th>\n",
       "      <th>Trim</th>\n",
       "      <th>SubModel</th>\n",
       "      <th>...</th>\n",
       "      <th>MMRCurrentRetailAveragePrice</th>\n",
       "      <th>MMRCurrentRetailCleanPrice</th>\n",
       "      <th>PRIMEUNIT</th>\n",
       "      <th>AUCGUART</th>\n",
       "      <th>BYRNO</th>\n",
       "      <th>VNZIP1</th>\n",
       "      <th>VNST</th>\n",
       "      <th>VehBCost</th>\n",
       "      <th>IsOnlineSale</th>\n",
       "      <th>WarrantyCost</th>\n",
       "    </tr>\n",
       "  </thead>\n",
       "  <tbody>\n",
       "    <tr>\n",
       "      <th>0</th>\n",
       "      <td>1</td>\n",
       "      <td>0</td>\n",
       "      <td>12-07-2009</td>\n",
       "      <td>ADESA</td>\n",
       "      <td>2006</td>\n",
       "      <td>3</td>\n",
       "      <td>MAZDA</td>\n",
       "      <td>MAZDA3</td>\n",
       "      <td>i</td>\n",
       "      <td>4D SEDAN I</td>\n",
       "      <td>...</td>\n",
       "      <td>11597</td>\n",
       "      <td>12409</td>\n",
       "      <td>NaN</td>\n",
       "      <td>NaN</td>\n",
       "      <td>21973</td>\n",
       "      <td>33619</td>\n",
       "      <td>FL</td>\n",
       "      <td>7100</td>\n",
       "      <td>0</td>\n",
       "      <td>1113</td>\n",
       "    </tr>\n",
       "    <tr>\n",
       "      <th>1</th>\n",
       "      <td>2</td>\n",
       "      <td>0</td>\n",
       "      <td>12-07-2009</td>\n",
       "      <td>ADESA</td>\n",
       "      <td>2004</td>\n",
       "      <td>5</td>\n",
       "      <td>DODGE</td>\n",
       "      <td>1500 RAM PICKUP 2WD</td>\n",
       "      <td>ST</td>\n",
       "      <td>QUAD CAB 4.7L SLT</td>\n",
       "      <td>...</td>\n",
       "      <td>11374</td>\n",
       "      <td>12791</td>\n",
       "      <td>NaN</td>\n",
       "      <td>NaN</td>\n",
       "      <td>19638</td>\n",
       "      <td>33619</td>\n",
       "      <td>FL</td>\n",
       "      <td>7600</td>\n",
       "      <td>0</td>\n",
       "      <td>1053</td>\n",
       "    </tr>\n",
       "    <tr>\n",
       "      <th>2</th>\n",
       "      <td>3</td>\n",
       "      <td>0</td>\n",
       "      <td>12-07-2009</td>\n",
       "      <td>ADESA</td>\n",
       "      <td>2005</td>\n",
       "      <td>4</td>\n",
       "      <td>DODGE</td>\n",
       "      <td>STRATUS V6</td>\n",
       "      <td>SXT</td>\n",
       "      <td>4D SEDAN SXT FFV</td>\n",
       "      <td>...</td>\n",
       "      <td>7146</td>\n",
       "      <td>8702</td>\n",
       "      <td>NaN</td>\n",
       "      <td>NaN</td>\n",
       "      <td>19638</td>\n",
       "      <td>33619</td>\n",
       "      <td>FL</td>\n",
       "      <td>4900</td>\n",
       "      <td>0</td>\n",
       "      <td>1389</td>\n",
       "    </tr>\n",
       "    <tr>\n",
       "      <th>3</th>\n",
       "      <td>4</td>\n",
       "      <td>0</td>\n",
       "      <td>12-07-2009</td>\n",
       "      <td>ADESA</td>\n",
       "      <td>2004</td>\n",
       "      <td>5</td>\n",
       "      <td>DODGE</td>\n",
       "      <td>NEON</td>\n",
       "      <td>SXT</td>\n",
       "      <td>4D SEDAN</td>\n",
       "      <td>...</td>\n",
       "      <td>4375</td>\n",
       "      <td>5518</td>\n",
       "      <td>NaN</td>\n",
       "      <td>NaN</td>\n",
       "      <td>19638</td>\n",
       "      <td>33619</td>\n",
       "      <td>FL</td>\n",
       "      <td>4100</td>\n",
       "      <td>0</td>\n",
       "      <td>630</td>\n",
       "    </tr>\n",
       "    <tr>\n",
       "      <th>4</th>\n",
       "      <td>5</td>\n",
       "      <td>0</td>\n",
       "      <td>12-07-2009</td>\n",
       "      <td>ADESA</td>\n",
       "      <td>2005</td>\n",
       "      <td>4</td>\n",
       "      <td>FORD</td>\n",
       "      <td>FOCUS</td>\n",
       "      <td>ZX3</td>\n",
       "      <td>2D COUPE ZX3</td>\n",
       "      <td>...</td>\n",
       "      <td>6739</td>\n",
       "      <td>7911</td>\n",
       "      <td>NaN</td>\n",
       "      <td>NaN</td>\n",
       "      <td>19638</td>\n",
       "      <td>33619</td>\n",
       "      <td>FL</td>\n",
       "      <td>4000</td>\n",
       "      <td>0</td>\n",
       "      <td>1020</td>\n",
       "    </tr>\n",
       "  </tbody>\n",
       "</table>\n",
       "<p>5 rows × 34 columns</p>\n",
       "</div>"
      ],
      "text/plain": [
       "   RefId  IsBadBuy   PurchDate Auction  VehYear  VehicleAge   Make  \\\n",
       "0      1         0  12-07-2009   ADESA     2006           3  MAZDA   \n",
       "1      2         0  12-07-2009   ADESA     2004           5  DODGE   \n",
       "2      3         0  12-07-2009   ADESA     2005           4  DODGE   \n",
       "3      4         0  12-07-2009   ADESA     2004           5  DODGE   \n",
       "4      5         0  12-07-2009   ADESA     2005           4   FORD   \n",
       "\n",
       "                 Model Trim           SubModel      ...       \\\n",
       "0               MAZDA3    i         4D SEDAN I      ...        \n",
       "1  1500 RAM PICKUP 2WD   ST  QUAD CAB 4.7L SLT      ...        \n",
       "2           STRATUS V6  SXT   4D SEDAN SXT FFV      ...        \n",
       "3                 NEON  SXT           4D SEDAN      ...        \n",
       "4                FOCUS  ZX3       2D COUPE ZX3      ...        \n",
       "\n",
       "  MMRCurrentRetailAveragePrice MMRCurrentRetailCleanPrice  PRIMEUNIT AUCGUART  \\\n",
       "0                        11597                      12409        NaN      NaN   \n",
       "1                        11374                      12791        NaN      NaN   \n",
       "2                         7146                       8702        NaN      NaN   \n",
       "3                         4375                       5518        NaN      NaN   \n",
       "4                         6739                       7911        NaN      NaN   \n",
       "\n",
       "   BYRNO VNZIP1 VNST VehBCost  IsOnlineSale  WarrantyCost  \n",
       "0  21973  33619   FL     7100             0          1113  \n",
       "1  19638  33619   FL     7600             0          1053  \n",
       "2  19638  33619   FL     4900             0          1389  \n",
       "3  19638  33619   FL     4100             0           630  \n",
       "4  19638  33619   FL     4000             0          1020  \n",
       "\n",
       "[5 rows x 34 columns]"
      ]
     },
     "execution_count": 5,
     "metadata": {},
     "output_type": "execute_result"
    }
   ],
   "source": [
    "used_cars.head()"
   ]
  },
  {
   "cell_type": "code",
   "execution_count": 22,
   "metadata": {
    "collapsed": false
   },
   "outputs": [],
   "source": [
    "data = used_cars.copy()\n",
    "target = data.pop(\"IsBadBuy\")"
   ]
  },
  {
   "cell_type": "code",
   "execution_count": 23,
   "metadata": {
    "collapsed": false
   },
   "outputs": [
    {
     "data": {
      "text/html": [
       "<div>\n",
       "<table border=\"1\" class=\"dataframe\">\n",
       "  <thead>\n",
       "    <tr style=\"text-align: right;\">\n",
       "      <th></th>\n",
       "      <th>RefId</th>\n",
       "      <th>VehYear</th>\n",
       "      <th>VehicleAge</th>\n",
       "      <th>WheelTypeID</th>\n",
       "      <th>VehOdo</th>\n",
       "      <th>MMRAcquisitionAuctionAveragePrice</th>\n",
       "      <th>MMRAcquisitionAuctionCleanPrice</th>\n",
       "      <th>MMRAcquisitionRetailAveragePrice</th>\n",
       "      <th>MMRAcquisitonRetailCleanPrice</th>\n",
       "      <th>MMRCurrentAuctionAveragePrice</th>\n",
       "      <th>MMRCurrentAuctionCleanPrice</th>\n",
       "      <th>MMRCurrentRetailAveragePrice</th>\n",
       "      <th>MMRCurrentRetailCleanPrice</th>\n",
       "      <th>BYRNO</th>\n",
       "      <th>VNZIP1</th>\n",
       "      <th>VehBCost</th>\n",
       "      <th>IsOnlineSale</th>\n",
       "      <th>WarrantyCost</th>\n",
       "    </tr>\n",
       "  </thead>\n",
       "  <tbody>\n",
       "    <tr>\n",
       "      <th>0</th>\n",
       "      <td>1</td>\n",
       "      <td>2006</td>\n",
       "      <td>3</td>\n",
       "      <td>1</td>\n",
       "      <td>89046</td>\n",
       "      <td>8155</td>\n",
       "      <td>9829</td>\n",
       "      <td>11636</td>\n",
       "      <td>13600</td>\n",
       "      <td>7451</td>\n",
       "      <td>8552</td>\n",
       "      <td>11597</td>\n",
       "      <td>12409</td>\n",
       "      <td>21973</td>\n",
       "      <td>33619</td>\n",
       "      <td>7100</td>\n",
       "      <td>0</td>\n",
       "      <td>1113</td>\n",
       "    </tr>\n",
       "    <tr>\n",
       "      <th>1</th>\n",
       "      <td>2</td>\n",
       "      <td>2004</td>\n",
       "      <td>5</td>\n",
       "      <td>1</td>\n",
       "      <td>93593</td>\n",
       "      <td>6854</td>\n",
       "      <td>8383</td>\n",
       "      <td>10897</td>\n",
       "      <td>12572</td>\n",
       "      <td>7456</td>\n",
       "      <td>9222</td>\n",
       "      <td>11374</td>\n",
       "      <td>12791</td>\n",
       "      <td>19638</td>\n",
       "      <td>33619</td>\n",
       "      <td>7600</td>\n",
       "      <td>0</td>\n",
       "      <td>1053</td>\n",
       "    </tr>\n",
       "    <tr>\n",
       "      <th>2</th>\n",
       "      <td>3</td>\n",
       "      <td>2005</td>\n",
       "      <td>4</td>\n",
       "      <td>2</td>\n",
       "      <td>73807</td>\n",
       "      <td>3202</td>\n",
       "      <td>4760</td>\n",
       "      <td>6943</td>\n",
       "      <td>8457</td>\n",
       "      <td>4035</td>\n",
       "      <td>5557</td>\n",
       "      <td>7146</td>\n",
       "      <td>8702</td>\n",
       "      <td>19638</td>\n",
       "      <td>33619</td>\n",
       "      <td>4900</td>\n",
       "      <td>0</td>\n",
       "      <td>1389</td>\n",
       "    </tr>\n",
       "    <tr>\n",
       "      <th>3</th>\n",
       "      <td>4</td>\n",
       "      <td>2004</td>\n",
       "      <td>5</td>\n",
       "      <td>1</td>\n",
       "      <td>65617</td>\n",
       "      <td>1893</td>\n",
       "      <td>2675</td>\n",
       "      <td>4658</td>\n",
       "      <td>5690</td>\n",
       "      <td>1844</td>\n",
       "      <td>2646</td>\n",
       "      <td>4375</td>\n",
       "      <td>5518</td>\n",
       "      <td>19638</td>\n",
       "      <td>33619</td>\n",
       "      <td>4100</td>\n",
       "      <td>0</td>\n",
       "      <td>630</td>\n",
       "    </tr>\n",
       "    <tr>\n",
       "      <th>4</th>\n",
       "      <td>5</td>\n",
       "      <td>2005</td>\n",
       "      <td>4</td>\n",
       "      <td>2</td>\n",
       "      <td>69367</td>\n",
       "      <td>3913</td>\n",
       "      <td>5054</td>\n",
       "      <td>7723</td>\n",
       "      <td>8707</td>\n",
       "      <td>3247</td>\n",
       "      <td>4384</td>\n",
       "      <td>6739</td>\n",
       "      <td>7911</td>\n",
       "      <td>19638</td>\n",
       "      <td>33619</td>\n",
       "      <td>4000</td>\n",
       "      <td>0</td>\n",
       "      <td>1020</td>\n",
       "    </tr>\n",
       "  </tbody>\n",
       "</table>\n",
       "</div>"
      ],
      "text/plain": [
       "   RefId  VehYear  VehicleAge  WheelTypeID  VehOdo  \\\n",
       "0      1     2006           3            1   89046   \n",
       "1      2     2004           5            1   93593   \n",
       "2      3     2005           4            2   73807   \n",
       "3      4     2004           5            1   65617   \n",
       "4      5     2005           4            2   69367   \n",
       "\n",
       "   MMRAcquisitionAuctionAveragePrice  MMRAcquisitionAuctionCleanPrice  \\\n",
       "0                               8155                             9829   \n",
       "1                               6854                             8383   \n",
       "2                               3202                             4760   \n",
       "3                               1893                             2675   \n",
       "4                               3913                             5054   \n",
       "\n",
       "   MMRAcquisitionRetailAveragePrice  MMRAcquisitonRetailCleanPrice  \\\n",
       "0                             11636                          13600   \n",
       "1                             10897                          12572   \n",
       "2                              6943                           8457   \n",
       "3                              4658                           5690   \n",
       "4                              7723                           8707   \n",
       "\n",
       "   MMRCurrentAuctionAveragePrice  MMRCurrentAuctionCleanPrice  \\\n",
       "0                           7451                         8552   \n",
       "1                           7456                         9222   \n",
       "2                           4035                         5557   \n",
       "3                           1844                         2646   \n",
       "4                           3247                         4384   \n",
       "\n",
       "   MMRCurrentRetailAveragePrice  MMRCurrentRetailCleanPrice  BYRNO  VNZIP1  \\\n",
       "0                         11597                       12409  21973   33619   \n",
       "1                         11374                       12791  19638   33619   \n",
       "2                          7146                        8702  19638   33619   \n",
       "3                          4375                        5518  19638   33619   \n",
       "4                          6739                        7911  19638   33619   \n",
       "\n",
       "   VehBCost  IsOnlineSale  WarrantyCost  \n",
       "0      7100             0          1113  \n",
       "1      7600             0          1053  \n",
       "2      4900             0          1389  \n",
       "3      4100             0           630  \n",
       "4      4000             0          1020  "
      ]
     },
     "execution_count": 23,
     "metadata": {},
     "output_type": "execute_result"
    }
   ],
   "source": [
    "data[data.columns[data.dtypes !='object']].head()"
   ]
  },
  {
   "cell_type": "code",
   "execution_count": 24,
   "metadata": {
    "collapsed": false
   },
   "outputs": [],
   "source": [
    "a = used_cars[used_cars.IsBadBuy == 1][\"Nationality\"]\n",
    "b = a.value_counts()"
   ]
  },
  {
   "cell_type": "code",
   "execution_count": 25,
   "metadata": {
    "collapsed": false
   },
   "outputs": [
    {
     "data": {
      "text/plain": [
       "([<matplotlib.patches.Wedge at 0xc0a8d70>,\n",
       "  <matplotlib.patches.Wedge at 0xc0aec30>,\n",
       "  <matplotlib.patches.Wedge at 0x8ca4ad0>,\n",
       "  <matplotlib.patches.Wedge at 0x8ca9970>],\n",
       " [<matplotlib.text.Text at 0xc0ae5d0>,\n",
       "  <matplotlib.text.Text at 0x8ca4470>,\n",
       "  <matplotlib.text.Text at 0x8ca9310>,\n",
       "  <matplotlib.text.Text at 0x8caf1b0>],\n",
       " [<matplotlib.text.Text at 0xc0ae910>,\n",
       "  <matplotlib.text.Text at 0x8ca47b0>,\n",
       "  <matplotlib.text.Text at 0x8ca9650>,\n",
       "  <matplotlib.text.Text at 0x8caf4f0>])"
      ]
     },
     "execution_count": 25,
     "metadata": {},
     "output_type": "execute_result"
    },
    {
     "data": {
      "image/png": "[encoded data removed]",
      "text/plain": [
       "<matplotlib.figure.Figure at 0x782f910>"
      ]
     },
     "metadata": {},
     "output_type": "display_data"
    }
   ],
   "source": [
    "plt.pie(b, labels=b.index, startangle=180, shadow=True,autopct='%1.1f%%')"
   ]
  },
  {
   "cell_type": "code",
   "execution_count": 26,
   "metadata": {
    "collapsed": false
   },
   "outputs": [],
   "source": [
    "target_features = data[[\"MMRAcquisitionAuctionAveragePrice\", \"MMRAcquisitionAuctionCleanPrice\", \"MMRAcquisitionRetailAveragePrice\",\n",
    "                        \"MMRAcquisitonRetailCleanPrice\", \"MMRCurrentAuctionAveragePrice\",\"MMRCurrentAuctionCleanPrice\",\n",
    "                        \"MMRCurrentRetailAveragePrice\", \"MMRCurrentRetailCleanPrice\", \"WarrantyCost\"]]"
   ]
  },
  {
   "cell_type": "code",
   "execution_count": 27,
   "metadata": {
    "collapsed": false
   },
   "outputs": [
    {
     "data": {
      "text/html": [
       "<div>\n",
       "<table border=\"1\" class=\"dataframe\">\n",
       "  <thead>\n",
       "    <tr style=\"text-align: right;\">\n",
       "      <th></th>\n",
       "      <th>MMRAcquisitionAuctionAveragePrice</th>\n",
       "      <th>MMRAcquisitionAuctionCleanPrice</th>\n",
       "      <th>MMRAcquisitionRetailAveragePrice</th>\n",
       "      <th>MMRAcquisitonRetailCleanPrice</th>\n",
       "      <th>MMRCurrentAuctionAveragePrice</th>\n",
       "      <th>MMRCurrentAuctionCleanPrice</th>\n",
       "      <th>MMRCurrentRetailAveragePrice</th>\n",
       "      <th>MMRCurrentRetailCleanPrice</th>\n",
       "      <th>WarrantyCost</th>\n",
       "    </tr>\n",
       "  </thead>\n",
       "  <tbody>\n",
       "    <tr>\n",
       "      <th>count</th>\n",
       "      <td>72965.000000</td>\n",
       "      <td>72965.000000</td>\n",
       "      <td>72965.000000</td>\n",
       "      <td>72965.000000</td>\n",
       "      <td>72668.000000</td>\n",
       "      <td>72668.000000</td>\n",
       "      <td>72668.000000</td>\n",
       "      <td>72668.000000</td>\n",
       "      <td>72983.000000</td>\n",
       "    </tr>\n",
       "    <tr>\n",
       "      <th>mean</th>\n",
       "      <td>6128.909217</td>\n",
       "      <td>7373.636031</td>\n",
       "      <td>8497.034332</td>\n",
       "      <td>9850.928240</td>\n",
       "      <td>6132.081287</td>\n",
       "      <td>7390.681827</td>\n",
       "      <td>8775.723331</td>\n",
       "      <td>10145.385314</td>\n",
       "      <td>1276.580985</td>\n",
       "    </tr>\n",
       "    <tr>\n",
       "      <th>std</th>\n",
       "      <td>2461.992768</td>\n",
       "      <td>2722.491986</td>\n",
       "      <td>3156.285284</td>\n",
       "      <td>3385.789541</td>\n",
       "      <td>2434.567723</td>\n",
       "      <td>2686.248852</td>\n",
       "      <td>3090.702941</td>\n",
       "      <td>3310.254351</td>\n",
       "      <td>598.846788</td>\n",
       "    </tr>\n",
       "    <tr>\n",
       "      <th>min</th>\n",
       "      <td>0.000000</td>\n",
       "      <td>0.000000</td>\n",
       "      <td>0.000000</td>\n",
       "      <td>0.000000</td>\n",
       "      <td>0.000000</td>\n",
       "      <td>0.000000</td>\n",
       "      <td>0.000000</td>\n",
       "      <td>0.000000</td>\n",
       "      <td>462.000000</td>\n",
       "    </tr>\n",
       "    <tr>\n",
       "      <th>25%</th>\n",
       "      <td>4273.000000</td>\n",
       "      <td>5406.000000</td>\n",
       "      <td>6280.000000</td>\n",
       "      <td>7493.000000</td>\n",
       "      <td>4275.000000</td>\n",
       "      <td>5414.000000</td>\n",
       "      <td>6536.000000</td>\n",
       "      <td>7784.000000</td>\n",
       "      <td>837.000000</td>\n",
       "    </tr>\n",
       "    <tr>\n",
       "      <th>50%</th>\n",
       "      <td>6097.000000</td>\n",
       "      <td>7303.000000</td>\n",
       "      <td>8444.000000</td>\n",
       "      <td>9789.000000</td>\n",
       "      <td>6062.000000</td>\n",
       "      <td>7313.000000</td>\n",
       "      <td>8729.000000</td>\n",
       "      <td>10103.000000</td>\n",
       "      <td>1155.000000</td>\n",
       "    </tr>\n",
       "    <tr>\n",
       "      <th>75%</th>\n",
       "      <td>7765.000000</td>\n",
       "      <td>9021.000000</td>\n",
       "      <td>10651.000000</td>\n",
       "      <td>12088.000000</td>\n",
       "      <td>7736.000000</td>\n",
       "      <td>9013.000000</td>\n",
       "      <td>10911.000000</td>\n",
       "      <td>12309.000000</td>\n",
       "      <td>1623.000000</td>\n",
       "    </tr>\n",
       "    <tr>\n",
       "      <th>max</th>\n",
       "      <td>35722.000000</td>\n",
       "      <td>36859.000000</td>\n",
       "      <td>39080.000000</td>\n",
       "      <td>41482.000000</td>\n",
       "      <td>35722.000000</td>\n",
       "      <td>36859.000000</td>\n",
       "      <td>39080.000000</td>\n",
       "      <td>41062.000000</td>\n",
       "      <td>7498.000000</td>\n",
       "    </tr>\n",
       "  </tbody>\n",
       "</table>\n",
       "</div>"
      ],
      "text/plain": [
       "       MMRAcquisitionAuctionAveragePrice  MMRAcquisitionAuctionCleanPrice  \\\n",
       "count                       72965.000000                     72965.000000   \n",
       "mean                         6128.909217                      7373.636031   \n",
       "std                          2461.992768                      2722.491986   \n",
       "min                             0.000000                         0.000000   \n",
       "25%                          4273.000000                      5406.000000   \n",
       "50%                          6097.000000                      7303.000000   \n",
       "75%                          7765.000000                      9021.000000   \n",
       "max                         35722.000000                     36859.000000   \n",
       "\n",
       "       MMRAcquisitionRetailAveragePrice  MMRAcquisitonRetailCleanPrice  \\\n",
       "count                      72965.000000                   72965.000000   \n",
       "mean                        8497.034332                    9850.928240   \n",
       "std                         3156.285284                    3385.789541   \n",
       "min                            0.000000                       0.000000   \n",
       "25%                         6280.000000                    7493.000000   \n",
       "50%                         8444.000000                    9789.000000   \n",
       "75%                        10651.000000                   12088.000000   \n",
       "max                        39080.000000                   41482.000000   \n",
       "\n",
       "       MMRCurrentAuctionAveragePrice  MMRCurrentAuctionCleanPrice  \\\n",
       "count                   72668.000000                 72668.000000   \n",
       "mean                     6132.081287                  7390.681827   \n",
       "std                      2434.567723                  2686.248852   \n",
       "min                         0.000000                     0.000000   \n",
       "25%                      4275.000000                  5414.000000   \n",
       "50%                      6062.000000                  7313.000000   \n",
       "75%                      7736.000000                  9013.000000   \n",
       "max                     35722.000000                 36859.000000   \n",
       "\n",
       "       MMRCurrentRetailAveragePrice  MMRCurrentRetailCleanPrice  WarrantyCost  \n",
       "count                  72668.000000                72668.000000  72983.000000  \n",
       "mean                    8775.723331                10145.385314   1276.580985  \n",
       "std                     3090.702941                 3310.254351    598.846788  \n",
       "min                        0.000000                    0.000000    462.000000  \n",
       "25%                     6536.000000                 7784.000000    837.000000  \n",
       "50%                     8729.000000                10103.000000   1155.000000  \n",
       "75%                    10911.000000                12309.000000   1623.000000  \n",
       "max                    39080.000000                41062.000000   7498.000000  "
      ]
     },
     "execution_count": 27,
     "metadata": {},
     "output_type": "execute_result"
    }
   ],
   "source": [
    "target_features.describe()"
   ]
  },
  {
   "cell_type": "code",
   "execution_count": 28,
   "metadata": {
    "collapsed": false
   },
   "outputs": [
    {
     "name": "stderr",
     "output_type": "stream",
     "text": [
      "G:\\Python\\lib\\site-packages\\pandas\\core\\generic.py:2862: SettingWithCopyWarning: \n",
      "A value is trying to be set on a copy of a slice from a DataFrame\n",
      "\n",
      "See the caveats in the documentation: http://pandas.pydata.org/pandas-docs/stable/indexing.html#indexing-view-versus-copy\n",
      "  self._update_inplace(new_data)\n"
     ]
    },
    {
     "data": {
      "text/html": [
       "<div>\n",
       "<table border=\"1\" class=\"dataframe\">\n",
       "  <thead>\n",
       "    <tr style=\"text-align: right;\">\n",
       "      <th></th>\n",
       "      <th>MMRAcquisitionAuctionAveragePrice</th>\n",
       "      <th>MMRAcquisitionAuctionCleanPrice</th>\n",
       "      <th>MMRAcquisitionRetailAveragePrice</th>\n",
       "      <th>MMRAcquisitonRetailCleanPrice</th>\n",
       "      <th>MMRCurrentAuctionAveragePrice</th>\n",
       "      <th>MMRCurrentAuctionCleanPrice</th>\n",
       "      <th>MMRCurrentRetailAveragePrice</th>\n",
       "      <th>MMRCurrentRetailCleanPrice</th>\n",
       "      <th>WarrantyCost</th>\n",
       "    </tr>\n",
       "  </thead>\n",
       "  <tbody>\n",
       "    <tr>\n",
       "      <th>count</th>\n",
       "      <td>72983.000000</td>\n",
       "      <td>72983.000000</td>\n",
       "      <td>72983.000000</td>\n",
       "      <td>72983.000000</td>\n",
       "      <td>72983.000000</td>\n",
       "      <td>72983.000000</td>\n",
       "      <td>72983.000000</td>\n",
       "      <td>72983.000000</td>\n",
       "      <td>72983.000000</td>\n",
       "    </tr>\n",
       "    <tr>\n",
       "      <th>mean</th>\n",
       "      <td>6128.909154</td>\n",
       "      <td>7373.636292</td>\n",
       "      <td>8497.035348</td>\n",
       "      <td>9850.929611</td>\n",
       "      <td>6132.081287</td>\n",
       "      <td>7390.681827</td>\n",
       "      <td>8775.723331</td>\n",
       "      <td>10145.385314</td>\n",
       "      <td>1276.580985</td>\n",
       "    </tr>\n",
       "    <tr>\n",
       "      <th>std</th>\n",
       "      <td>2461.689142</td>\n",
       "      <td>2722.156232</td>\n",
       "      <td>3155.896033</td>\n",
       "      <td>3385.371987</td>\n",
       "      <td>2429.308083</td>\n",
       "      <td>2680.445479</td>\n",
       "      <td>3084.025786</td>\n",
       "      <td>3303.102877</td>\n",
       "      <td>598.846788</td>\n",
       "    </tr>\n",
       "    <tr>\n",
       "      <th>min</th>\n",
       "      <td>0.000000</td>\n",
       "      <td>0.000000</td>\n",
       "      <td>0.000000</td>\n",
       "      <td>0.000000</td>\n",
       "      <td>0.000000</td>\n",
       "      <td>0.000000</td>\n",
       "      <td>0.000000</td>\n",
       "      <td>0.000000</td>\n",
       "      <td>462.000000</td>\n",
       "    </tr>\n",
       "    <tr>\n",
       "      <th>25%</th>\n",
       "      <td>4273.000000</td>\n",
       "      <td>5407.000000</td>\n",
       "      <td>6281.000000</td>\n",
       "      <td>7494.000000</td>\n",
       "      <td>4285.000000</td>\n",
       "      <td>5425.000000</td>\n",
       "      <td>6550.000000</td>\n",
       "      <td>7796.000000</td>\n",
       "      <td>837.000000</td>\n",
       "    </tr>\n",
       "    <tr>\n",
       "      <th>50%</th>\n",
       "      <td>6098.000000</td>\n",
       "      <td>7305.000000</td>\n",
       "      <td>8446.000000</td>\n",
       "      <td>9790.000000</td>\n",
       "      <td>6076.000000</td>\n",
       "      <td>7328.000000</td>\n",
       "      <td>8753.000000</td>\n",
       "      <td>10114.000000</td>\n",
       "      <td>1155.000000</td>\n",
       "    </tr>\n",
       "    <tr>\n",
       "      <th>75%</th>\n",
       "      <td>7765.000000</td>\n",
       "      <td>9021.000000</td>\n",
       "      <td>10650.000000</td>\n",
       "      <td>12088.000000</td>\n",
       "      <td>7732.000000</td>\n",
       "      <td>9006.000000</td>\n",
       "      <td>10897.000000</td>\n",
       "      <td>12308.000000</td>\n",
       "      <td>1623.000000</td>\n",
       "    </tr>\n",
       "    <tr>\n",
       "      <th>max</th>\n",
       "      <td>35722.000000</td>\n",
       "      <td>36859.000000</td>\n",
       "      <td>39080.000000</td>\n",
       "      <td>41482.000000</td>\n",
       "      <td>35722.000000</td>\n",
       "      <td>36859.000000</td>\n",
       "      <td>39080.000000</td>\n",
       "      <td>41062.000000</td>\n",
       "      <td>7498.000000</td>\n",
       "    </tr>\n",
       "  </tbody>\n",
       "</table>\n",
       "</div>"
      ],
      "text/plain": [
       "       MMRAcquisitionAuctionAveragePrice  MMRAcquisitionAuctionCleanPrice  \\\n",
       "count                       72983.000000                     72983.000000   \n",
       "mean                         6128.909154                      7373.636292   \n",
       "std                          2461.689142                      2722.156232   \n",
       "min                             0.000000                         0.000000   \n",
       "25%                          4273.000000                      5407.000000   \n",
       "50%                          6098.000000                      7305.000000   \n",
       "75%                          7765.000000                      9021.000000   \n",
       "max                         35722.000000                     36859.000000   \n",
       "\n",
       "       MMRAcquisitionRetailAveragePrice  MMRAcquisitonRetailCleanPrice  \\\n",
       "count                      72983.000000                   72983.000000   \n",
       "mean                        8497.035348                    9850.929611   \n",
       "std                         3155.896033                    3385.371987   \n",
       "min                            0.000000                       0.000000   \n",
       "25%                         6281.000000                    7494.000000   \n",
       "50%                         8446.000000                    9790.000000   \n",
       "75%                        10650.000000                   12088.000000   \n",
       "max                        39080.000000                   41482.000000   \n",
       "\n",
       "       MMRCurrentAuctionAveragePrice  MMRCurrentAuctionCleanPrice  \\\n",
       "count                   72983.000000                 72983.000000   \n",
       "mean                     6132.081287                  7390.681827   \n",
       "std                      2429.308083                  2680.445479   \n",
       "min                         0.000000                     0.000000   \n",
       "25%                      4285.000000                  5425.000000   \n",
       "50%                      6076.000000                  7328.000000   \n",
       "75%                      7732.000000                  9006.000000   \n",
       "max                     35722.000000                 36859.000000   \n",
       "\n",
       "       MMRCurrentRetailAveragePrice  MMRCurrentRetailCleanPrice  WarrantyCost  \n",
       "count                  72983.000000                72983.000000  72983.000000  \n",
       "mean                    8775.723331                10145.385314   1276.580985  \n",
       "std                     3084.025786                 3303.102877    598.846788  \n",
       "min                        0.000000                    0.000000    462.000000  \n",
       "25%                     6550.000000                 7796.000000    837.000000  \n",
       "50%                     8753.000000                10114.000000   1155.000000  \n",
       "75%                    10897.000000                12308.000000   1623.000000  \n",
       "max                    39080.000000                41062.000000   7498.000000  "
      ]
     },
     "execution_count": 28,
     "metadata": {},
     "output_type": "execute_result"
    }
   ],
   "source": [
    "target_features.fillna(target_features.dropna().mean(), inplace='True').describe()"
   ]
  },
  {
   "cell_type": "code",
   "execution_count": 29,
   "metadata": {
    "collapsed": false
   },
   "outputs": [
    {
     "data": {
      "text/plain": [
       "MMRAcquisitionAuctionAveragePrice    72983\n",
       "MMRAcquisitionAuctionCleanPrice      72983\n",
       "MMRAcquisitionRetailAveragePrice     72983\n",
       "MMRAcquisitonRetailCleanPrice        72983\n",
       "MMRCurrentAuctionAveragePrice        72983\n",
       "MMRCurrentAuctionCleanPrice          72983\n",
       "MMRCurrentRetailAveragePrice         72983\n",
       "MMRCurrentRetailCleanPrice           72983\n",
       "WarrantyCost                         72983\n",
       "dtype: int64"
      ]
     },
     "execution_count": 29,
     "metadata": {},
     "output_type": "execute_result"
    }
   ],
   "source": [
    "target_features.count()"
   ]
  },
  {
   "cell_type": "code",
   "execution_count": 30,
   "metadata": {
    "collapsed": false
   },
   "outputs": [
    {
     "data": {
      "text/plain": [
       "LogisticRegression(C=1.0, class_weight=None, dual=False, fit_intercept=True,\n",
       "          intercept_scaling=1, max_iter=100, multi_class='ovr', n_jobs=1,\n",
       "          penalty='l2', random_state=None, solver='liblinear', tol=0.0001,\n",
       "          verbose=0, warm_start=False)"
      ]
     },
     "execution_count": 30,
     "metadata": {},
     "output_type": "execute_result"
    }
   ],
   "source": [
    "logreg = LogisticRegression()\n",
    "logreg.fit(target_features, target)"
   ]
  },
  {
   "cell_type": "code",
   "execution_count": 31,
   "metadata": {
    "collapsed": false
   },
   "outputs": [
    {
     "data": {
      "text/plain": [
       "array([[ -4.58503600e-04,   1.24344382e-04,   3.21345359e-04,\n",
       "         -1.20529537e-04,   2.18766338e-04,  -5.96242082e-05,\n",
       "         -1.06974896e-04,  -1.47830384e-04,  -1.04805251e-04]])"
      ]
     },
     "execution_count": 31,
     "metadata": {},
     "output_type": "execute_result"
    }
   ],
   "source": [
    "logreg.coef_"
   ]
  },
  {
   "cell_type": "code",
   "execution_count": 32,
   "metadata": {
    "collapsed": false
   },
   "outputs": [],
   "source": [
    "x = np.arange(1,len(target_features.columns)+1)"
   ]
  },
  {
   "cell_type": "code",
   "execution_count": 33,
   "metadata": {
    "collapsed": false
   },
   "outputs": [
    {
     "data": {
      "text/plain": [
       "array([ -4.58503600e-04,   1.24344382e-04,   3.21345359e-04,\n",
       "        -1.20529537e-04,   2.18766338e-04,  -5.96242082e-05,\n",
       "        -1.06974896e-04,  -1.47830384e-04,  -1.04805251e-04])"
      ]
     },
     "execution_count": 33,
     "metadata": {},
     "output_type": "execute_result"
    }
   ],
   "source": [
    "y = logreg.coef_.ravel()\n",
    "y"
   ]
  },
  {
   "cell_type": "code",
   "execution_count": 34,
   "metadata": {
    "collapsed": false
   },
   "outputs": [
    {
     "data": {
      "text/plain": [
       "Index(['MMRAcquisitionAuctionAveragePrice', 'MMRAcquisitionAuctionCleanPrice',\n",
       "       'MMRAcquisitionRetailAveragePrice', 'MMRAcquisitonRetailCleanPrice',\n",
       "       'MMRCurrentAuctionAveragePrice', 'MMRCurrentAuctionCleanPrice',\n",
       "       'MMRCurrentRetailAveragePrice', 'MMRCurrentRetailCleanPrice',\n",
       "       'WarrantyCost'],\n",
       "      dtype='object')"
      ]
     },
     "execution_count": 34,
     "metadata": {},
     "output_type": "execute_result"
    }
   ],
   "source": [
    "target_features.columns"
   ]
  },
  {
   "cell_type": "code",
   "execution_count": 35,
   "metadata": {
    "collapsed": false
   },
   "outputs": [
    {
     "data": {
      "text/plain": [
       "9"
      ]
     },
     "execution_count": 35,
     "metadata": {},
     "output_type": "execute_result"
    }
   ],
   "source": [
    "len(target_features.columns)"
   ]
  },
  {
   "cell_type": "code",
   "execution_count": 36,
   "metadata": {
    "collapsed": false
   },
   "outputs": [
    {
     "data": {
      "text/plain": [
       "([<matplotlib.axis.XTick at 0x8cc01f0>,\n",
       "  <matplotlib.axis.XTick at 0x8cc0b90>,\n",
       "  <matplotlib.axis.XTick at 0x8cbe1f0>,\n",
       "  <matplotlib.axis.XTick at 0x788ceb0>,\n",
       "  <matplotlib.axis.XTick at 0x7891490>,\n",
       "  <matplotlib.axis.XTick at 0x7891a50>,\n",
       "  <matplotlib.axis.XTick at 0x7896030>,\n",
       "  <matplotlib.axis.XTick at 0x78965f0>,\n",
       "  <matplotlib.axis.XTick at 0x7896bb0>],\n",
       " <a list of 9 Text xticklabel objects>)"
      ]
     },
     "execution_count": 36,
     "metadata": {},
     "output_type": "execute_result"
    },
    {
     "data": {
      "image/png": "[encoded data removed]",
      "text/plain": [
       "<matplotlib.figure.Figure at 0x8c91c90>"
      ]
     },
     "metadata": {},
     "output_type": "display_data"
    }
   ],
   "source": [
    "plt.bar(x, y)\n",
    "plt.xticks(x+.5, target_features.columns, rotation =90)"
   ]
  },
  {
   "cell_type": "code",
   "execution_count": 37,
   "metadata": {
    "collapsed": false
   },
   "outputs": [],
   "source": [
    "from sklearn.metrics import confusion_matrix\n",
    "from sklearn.metrics import accuracy_score\n",
    "from sklearn import metrics"
   ]
  },
  {
   "cell_type": "code",
   "execution_count": 38,
   "metadata": {
    "collapsed": false
   },
   "outputs": [
    {
     "data": {
      "text/plain": [
       "array([[64003,     4],\n",
       "       [ 8975,     1]])"
      ]
     },
     "execution_count": 38,
     "metadata": {},
     "output_type": "execute_result"
    }
   ],
   "source": [
    "y_pred =logreg.predict(target_features)\n",
    "confusion = confusion_matrix(target, y_pred )\n",
    "confusion"
   ]
  },
  {
   "cell_type": "code",
   "execution_count": 39,
   "metadata": {
    "collapsed": false
   },
   "outputs": [],
   "source": [
    "TP= confusion[1,1]\n",
    "TN= confusion[0,0]\n",
    "FP= confusion[0,1]\n",
    "FN= confusion[1,0]"
   ]
  },
  {
   "cell_type": "code",
   "execution_count": 40,
   "metadata": {
    "collapsed": false
   },
   "outputs": [
    {
     "data": {
      "text/plain": [
       "0.87697134949234756"
      ]
     },
     "execution_count": 40,
     "metadata": {},
     "output_type": "execute_result"
    }
   ],
   "source": [
    "accuracy_score(target, y_pred )"
   ]
  },
  {
   "cell_type": "code",
   "execution_count": 41,
   "metadata": {
    "collapsed": true
   },
   "outputs": [],
   "source": [
    "accuracy = (TP + TN)/(TP+TN+FP+FN)"
   ]
  },
  {
   "cell_type": "code",
   "execution_count": 42,
   "metadata": {
    "collapsed": false
   },
   "outputs": [
    {
     "data": {
      "text/plain": [
       "0.87697134949234756"
      ]
     },
     "execution_count": 42,
     "metadata": {},
     "output_type": "execute_result"
    }
   ],
   "source": [
    "accuracy"
   ]
  },
  {
   "cell_type": "markdown",
   "metadata": {},
   "source": [
    "#    Sensitivity(True Positive Rate or Recall) = Tp/(TP+FN)\n",
    "    Specifity : When actual value is negative then how often prediction is correct = TN/(TN+FP)\n",
    "    Precision : How precise is classifier when detecting positive instance = Tp/(TP+FP)"
   ]
  },
  {
   "cell_type": "code",
   "execution_count": 43,
   "metadata": {
    "collapsed": false
   },
   "outputs": [
    {
     "name": "stdout",
     "output_type": "stream",
     "text": [
      "Sensitivity :  0.000111408199643\n",
      "Precision :  0.2\n",
      "Specificity :  0.999937506835\n"
     ]
    }
   ],
   "source": [
    "print(\"Sensitivity : \", metrics.recall_score(target, y_pred))\n",
    "print(\"Precision : \", metrics.precision_score(target, y_pred))\n",
    "print(\"Specificity : \", TN/(TN+FP))"
   ]
  },
  {
   "cell_type": "markdown",
   "metadata": {},
   "source": [
    "Model has high Specificity and low sensivity i.e. Model is not correctly predicting positive values"
   ]
  },
  {
   "cell_type": "markdown",
   "metadata": {},
   "source": [
    "# Decreasing Threshold to predict 1 so as to increase sensitivity"
   ]
  },
  {
   "cell_type": "markdown",
   "metadata": {},
   "source": [
    "Histagram for predicted probabilities"
   ]
  },
  {
   "cell_type": "code",
   "execution_count": 44,
   "metadata": {
    "collapsed": false
   },
   "outputs": [
    {
     "data": {
      "text/plain": [
       "<matplotlib.text.Text at 0x78bd850>"
      ]
     },
     "execution_count": 44,
     "metadata": {},
     "output_type": "execute_result"
    },
    {
     "data": {
      "image/png": "[encoded data removed]",
      "text/plain": [
       "<matplotlib.figure.Figure at 0x8cc6670>"
      ]
     },
     "metadata": {},
     "output_type": "display_data"
    }
   ],
   "source": [
    "y_pred_prob = logreg.predict_proba(target_features)[:,1]\n",
    "plt.hist(y_pred_prob, bins=8)\n",
    "plt.xlim(0,1)\n",
    "plt.xlabel(\"Predicted probabilities of IsBadbuy\")\n",
    "plt.ylabel(\"Frequency\")\n",
    "plt.title(\"Histagram of predicted probabilities\")"
   ]
  },
  {
   "cell_type": "code",
   "execution_count": 45,
   "metadata": {
    "collapsed": false
   },
   "outputs": [
    {
     "name": "stderr",
     "output_type": "stream",
     "text": [
      "G:\\Python\\lib\\site-packages\\sklearn\\utils\\validation.py:386: DeprecationWarning: Passing 1d arrays as data is deprecated in 0.17 and willraise ValueError in 0.19. Reshape your data either using X.reshape(-1, 1) if your data has a single feature or X.reshape(1, -1) if it contains a single sample.\n",
      "  DeprecationWarning)\n"
     ]
    }
   ],
   "source": [
    "from sklearn.preprocessing import binarize\n",
    "y_pred_class = binarize(y_pred_prob, 0.25)[0]"
   ]
  },
  {
   "cell_type": "code",
   "execution_count": 46,
   "metadata": {
    "collapsed": false
   },
   "outputs": [
    {
     "name": "stdout",
     "output_type": "stream",
     "text": [
      "First Confusion matrix [[64003     4]\n",
      " [ 8975     1]]\n"
     ]
    }
   ],
   "source": [
    "print(\"First Confusion matrix\", confusion)"
   ]
  },
  {
   "cell_type": "code",
   "execution_count": 47,
   "metadata": {
    "collapsed": false
   },
   "outputs": [
    {
     "data": {
      "text/plain": [
       "array([[60574,  3433],\n",
       "       [ 7999,   977]])"
      ]
     },
     "execution_count": 47,
     "metadata": {},
     "output_type": "execute_result"
    }
   ],
   "source": [
    "metrics.confusion_matrix(target, y_pred_class)"
   ]
  },
  {
   "cell_type": "code",
   "execution_count": 67,
   "metadata": {
    "collapsed": false
   },
   "outputs": [
    {
     "name": "stdout",
     "output_type": "stream",
     "text": [
      "New Sensitivity 0.108845811052\n",
      "New Specifity  0.9463652413017326\n"
     ]
    },
    {
     "data": {
      "text/plain": [
       "0.05363475869826739"
      ]
     },
     "execution_count": 67,
     "metadata": {},
     "output_type": "execute_result"
    }
   ],
   "source": [
    "print(\"New Sensitivity\", metrics.recall_score(target, y_pred_class))\n",
    "print(\"New Specifity \", 60574/(60574+3433))\n",
    "1-0.9463652413017326"
   ]
  },
  {
   "cell_type": "markdown",
   "metadata": {},
   "source": [
    "# Creating ROC and AUC"
   ]
  },
  {
   "cell_type": "code",
   "execution_count": 72,
   "metadata": {
    "collapsed": false
   },
   "outputs": [],
   "source": [
    "fpr, tpr, threshold = metrics.roc_curve(target, y_pred_prob)"
   ]
  },
  {
   "cell_type": "code",
   "execution_count": 73,
   "metadata": {
    "collapsed": false
   },
   "outputs": [
    {
     "data": {
      "image/png": "[encoded data removed]",
      "text/plain": [
       "<matplotlib.figure.Figure at 0x84e26b0>"
      ]
     },
     "metadata": {},
     "output_type": "display_data"
    }
   ],
   "source": [
    "plt.plot(fpr, tpr)\n",
    "plt.ylabel(\"True Positivie rate i.e. Sensitivity\")\n",
    "plt.xlabel(\"False positive rate i.e. (1-Specificity)\")\n",
    "plt.plot([0.000111408199643, 0.108845811052], [6.249316499995494e-05, 0.05363475869826739], 'ro')\n",
    "plt.grid(True)"
   ]
  },
  {
   "cell_type": "markdown",
   "metadata": {},
   "source": [
    "Defining a function that accepts Threshold and gives sensitivity and specifity"
   ]
  },
  {
   "cell_type": "code",
   "execution_count": 63,
   "metadata": {
    "collapsed": false
   },
   "outputs": [],
   "source": [
    "def evaluate_threshold(th):\n",
    "    print(\"Sensitivity : \", tpr[threshold > th][-1])\n",
    "    print(\"Specificity : \", 1 - fpr[threshold > th][-1])"
   ]
  },
  {
   "cell_type": "code",
   "execution_count": 71,
   "metadata": {
    "collapsed": false
   },
   "outputs": [
    {
     "name": "stdout",
     "output_type": "stream",
     "text": [
      "Sensitivity and specifity with Threashold value of .5 : \n",
      "Sensitivity :  0.000111408199643\n",
      "Specificity :  0.999968753418\n",
      "None\n",
      "Sensitivity and specifity with Threashold value of .25 : \n",
      "Sensitivity :  0.108845811052\n",
      "Specificity :  0.946365241302\n",
      "None\n"
     ]
    }
   ],
   "source": [
    "print(\"Sensitivity and specifity with Threashold value of .5 : \")\n",
    "print(evaluate_threshold(.5))\n",
    "print(\"Sensitivity and specifity with Threashold value of .25 : \")\n",
    "print(evaluate_threshold(.25))"
   ]
  },
  {
   "cell_type": "markdown",
   "metadata": {},
   "source": [
    "# Calculating AUC"
   ]
  },
  {
   "cell_type": "code",
   "execution_count": 74,
   "metadata": {
    "collapsed": false
   },
   "outputs": [
    {
     "data": {
      "text/plain": [
       "0.60906105078134976"
      ]
     },
     "execution_count": 74,
     "metadata": {},
     "output_type": "execute_result"
    }
   ],
   "source": [
    "metrics.roc_auc_score(target, y_pred_prob)"
   ]
  },
  {
   "cell_type": "code",
   "execution_count": 77,
   "metadata": {
    "collapsed": false
   },
   "outputs": [
    {
     "data": {
      "text/plain": [
       "array([ 0.60272833,  0.60536181,  0.58065999,  0.60445968,  0.57075627,\n",
       "        0.62747034,  0.61123419,  0.66416501,  0.59278541,  0.6013195 ])"
      ]
     },
     "execution_count": 77,
     "metadata": {},
     "output_type": "execute_result"
    }
   ],
   "source": [
    "from sklearn.cross_validation import cross_val_score\n",
    "cross_val_score(logreg,target_features, target, cv =10, scoring='roc_auc' )"
   ]
  },
  {
   "cell_type": "markdown",
   "metadata": {
    "collapsed": true
   },
   "source": [
    "# Analysing Data with Target as IsBadbuy and feature column as MMRAcquisitionAuctionAveragePrice"
   ]
  },
  {
   "cell_type": "code",
   "execution_count": 62,
   "metadata": {
    "collapsed": false
   },
   "outputs": [],
   "source": [
    "logreg_1 = LogisticRegression()\n",
    "y = target\n",
    "x = data[\"WarrantyCost\"]\n",
    "x.fillna(x.dropna().mean(), inplace=True)\n",
    "x = x[:,np.newaxis]"
   ]
  },
  {
   "cell_type": "code",
   "execution_count": 63,
   "metadata": {
    "collapsed": false
   },
   "outputs": [],
   "source": [
    "logreg_1.fit(x,y)\n",
    "y_pred = logreg_1.predict(x)"
   ]
  },
  {
   "cell_type": "code",
   "execution_count": 65,
   "metadata": {
    "collapsed": false
   },
   "outputs": [
    {
     "data": {
      "text/plain": [
       "<matplotlib.text.Text at 0x8cded30>"
      ]
     },
     "execution_count": 65,
     "metadata": {},
     "output_type": "execute_result"
    },
    {
     "data": {
      "image/png": "[encoded data removed]",
      "text/plain": [
       "<matplotlib.figure.Figure at 0x8ce83b0>"
      ]
     },
     "metadata": {},
     "output_type": "display_data"
    }
   ],
   "source": [
    "plt.plot(data.WarrantyCost, y_pred, color='r')\n",
    "plt.scatter(x,y)\n",
    "plt.ylabel(\"WarrantyCost\")\n",
    "plt.xlabel(\"IsBadbuy\")"
   ]
  },
  {
   "cell_type": "code",
   "execution_count": null,
   "metadata": {
    "collapsed": true
   },
   "outputs": [],
   "source": []
  }
 ],
 "metadata": {
  "kernelspec": {
   "display_name": "Python 3",
   "language": "python",
   "name": "python3"
  },
  "language_info": {
   "codemirror_mode": {
    "name": "ipython",
    "version": 3
   },
   "file_extension": ".py",
   "mimetype": "text/x-python",
   "name": "python",
   "nbconvert_exporter": "python",
   "pygments_lexer": "ipython3",
   "version": "3.5.1"
  }
 },
 "nbformat": 4,
 "nbformat_minor": 0
}
